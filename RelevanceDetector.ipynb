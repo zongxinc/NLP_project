{
 "cells": [
  {
   "cell_type": "code",
   "execution_count": 292,
   "metadata": {},
   "outputs": [],
   "source": [
    "import os\n",
    "import sys\n",
    "os.environ['TRANSFORMERS_CACHE'] = '/projectnb/cs505/mahirp/cache'\n",
    "os.environ['PREFIX_PATH']=\"/projectnb/cs505/mahirp/python\"\n",
    "os.environ['TFHUB_CACHE_DIR']='/projectnb/cs505/mahirp/tfcache'\n",
    "sys.path.append('/projectnb/cs505/mahirp/python/bin')\n",
    "sys.path.append('/projectnb/cs505/mahirp/cache')\n",
    "sys.path.append('/projectnb/cs505/mahirp/tfcache')"
   ]
  },
  {
   "cell_type": "code",
   "execution_count": 293,
   "metadata": {
    "id": "MCPSM8T04Cwz"
   },
   "outputs": [
    {
     "name": "stdout",
     "output_type": "stream",
     "text": [
      "Collecting transformers\n",
      "  Using cached transformers-4.5.1-py3-none-any.whl (2.1 MB)\n",
      "Processing /usr4/cs640/mahirp/.cache/pip/wheels/46/ef/c3/157e41f5ee1372d1be90b09f74f82b10e391eaacca8f22d33e/sklearn-0.0-py2.py3-none-any.whl\n",
      "Collecting filelock\n",
      "  Using cached filelock-3.0.12-py3-none-any.whl (7.6 kB)\n",
      "Collecting tokenizers<0.11,>=0.10.1\n",
      "  Using cached tokenizers-0.10.2-cp37-cp37m-manylinux2010_x86_64.whl (3.3 MB)\n",
      "Collecting importlib-metadata; python_version < \"3.8\"\n",
      "  Using cached importlib_metadata-4.0.0-py3-none-any.whl (16 kB)\n",
      "Collecting numpy>=1.17\n",
      "  Using cached numpy-1.20.2-cp37-cp37m-manylinux2010_x86_64.whl (15.3 MB)\n",
      "Collecting requests\n",
      "  Using cached requests-2.25.1-py2.py3-none-any.whl (61 kB)\n",
      "Collecting regex!=2019.12.17\n",
      "  Using cached regex-2021.4.4-cp37-cp37m-manylinux2014_x86_64.whl (720 kB)\n",
      "Collecting sacremoses\n",
      "  Using cached sacremoses-0.0.45-py3-none-any.whl (895 kB)\n",
      "Collecting tqdm>=4.27\n",
      "  Using cached tqdm-4.60.0-py2.py3-none-any.whl (75 kB)\n",
      "Collecting packaging\n",
      "  Using cached packaging-20.9-py2.py3-none-any.whl (40 kB)\n",
      "Collecting scikit-learn\n",
      "  Using cached scikit_learn-0.24.1-cp37-cp37m-manylinux2010_x86_64.whl (22.3 MB)\n",
      "Collecting zipp>=0.5\n",
      "  Using cached zipp-3.4.1-py3-none-any.whl (5.2 kB)\n",
      "Collecting typing-extensions>=3.6.4; python_version < \"3.8\"\n",
      "  Using cached typing_extensions-3.7.4.3-py3-none-any.whl (22 kB)\n",
      "Collecting idna<3,>=2.5\n",
      "  Using cached idna-2.10-py2.py3-none-any.whl (58 kB)\n",
      "Collecting chardet<5,>=3.0.2\n",
      "  Using cached chardet-4.0.0-py2.py3-none-any.whl (178 kB)\n",
      "Collecting certifi>=2017.4.17\n",
      "  Using cached certifi-2020.12.5-py2.py3-none-any.whl (147 kB)\n",
      "Collecting urllib3<1.27,>=1.21.1\n",
      "  Using cached urllib3-1.26.4-py2.py3-none-any.whl (153 kB)\n",
      "Collecting click\n",
      "  Using cached click-7.1.2-py2.py3-none-any.whl (82 kB)\n",
      "Collecting joblib\n",
      "  Using cached joblib-1.0.1-py3-none-any.whl (303 kB)\n",
      "Collecting six\n",
      "  Using cached six-1.15.0-py2.py3-none-any.whl (10 kB)\n",
      "Collecting pyparsing>=2.0.2\n",
      "  Using cached pyparsing-2.4.7-py2.py3-none-any.whl (67 kB)\n",
      "Collecting scipy>=0.19.1\n",
      "  Using cached scipy-1.6.2-cp37-cp37m-manylinux1_x86_64.whl (27.4 MB)\n",
      "Collecting threadpoolctl>=2.0.0\n",
      "  Using cached threadpoolctl-2.1.0-py3-none-any.whl (12 kB)\n",
      "Installing collected packages: filelock, tokenizers, zipp, typing-extensions, importlib-metadata, numpy, idna, chardet, certifi, urllib3, requests, regex, click, tqdm, joblib, six, sacremoses, pyparsing, packaging, transformers, scipy, threadpoolctl, scikit-learn, sklearn\n",
      "\u001b[33m  WARNING: The scripts f2py, f2py3 and f2py3.7 are installed in '/projectnb/cs505/mahirp/python/bin' which is not on PATH.\n",
      "  Consider adding this directory to PATH or, if you prefer to suppress this warning, use --no-warn-script-location.\u001b[0m\n",
      "\u001b[33m  WARNING: The script chardetect is installed in '/projectnb/cs505/mahirp/python/bin' which is not on PATH.\n",
      "  Consider adding this directory to PATH or, if you prefer to suppress this warning, use --no-warn-script-location.\u001b[0m\n",
      "\u001b[33m  WARNING: The script tqdm is installed in '/projectnb/cs505/mahirp/python/bin' which is not on PATH.\n",
      "  Consider adding this directory to PATH or, if you prefer to suppress this warning, use --no-warn-script-location.\u001b[0m\n",
      "\u001b[33m  WARNING: The script sacremoses is installed in '/projectnb/cs505/mahirp/python/bin' which is not on PATH.\n",
      "  Consider adding this directory to PATH or, if you prefer to suppress this warning, use --no-warn-script-location.\u001b[0m\n",
      "\u001b[33m  WARNING: The script transformers-cli is installed in '/projectnb/cs505/mahirp/python/bin' which is not on PATH.\n",
      "  Consider adding this directory to PATH or, if you prefer to suppress this warning, use --no-warn-script-location.\u001b[0m\n",
      "\u001b[31mERROR: After October 2020 you may experience errors when installing or updating packages. This is because pip will change the way that it resolves dependency conflicts.\n",
      "\n",
      "We recommend you use --use-feature=2020-resolver to test your packages with the new resolver before it becomes the default.\n",
      "\n",
      "tensorflow 2.3.1 requires gast==0.3.3, but you'll have gast 0.4.0 which is incompatible.\n",
      "tensorflow 2.3.1 requires numpy<1.19.0,>=1.16.0, but you'll have numpy 1.20.2 which is incompatible.\n",
      "virtualenv 20.1.0 requires importlib-metadata<3,>=0.12; python_version < \"3.8\", but you'll have importlib-metadata 4.0.0 which is incompatible.\n",
      "glue-core 1.0.0 requires jupyter-client<6, but you'll have jupyter-client 6.1.7 which is incompatible.\n",
      "centrosome 1.2.0 requires matplotlib==3.1.3, but you'll have matplotlib 3.3.2 which is incompatible.\n",
      "botocore 1.19.4 requires urllib3<1.26,>=1.25.4; python_version != \"3.4\", but you'll have urllib3 1.26.4 which is incompatible.\n",
      "argcomplete 1.12.1 requires importlib-metadata<3,>=0.23; python_version == \"3.7\", but you'll have importlib-metadata 4.0.0 which is incompatible.\u001b[0m\n",
      "Successfully installed certifi-2020.12.5 chardet-4.0.0 click-7.1.2 filelock-3.0.12 idna-2.10 importlib-metadata-4.0.0 joblib-1.0.1 numpy-1.20.2 packaging-20.9 pyparsing-2.4.7 regex-2021.4.4 requests-2.25.1 sacremoses-0.0.45 scikit-learn-0.24.1 scipy-1.6.2 six-1.15.0 sklearn-0.0 threadpoolctl-2.1.0 tokenizers-0.10.2 tqdm-4.60.0 transformers-4.5.1 typing-extensions-3.7.4.3 urllib3-1.26.4 zipp-3.4.1\n",
      "\u001b[33mWARNING: You are using pip version 20.2.4; however, version 21.0.1 is available.\n",
      "You should consider upgrading via the '/share/pkg.7/python3/3.7.9/install/bin/python3.7 -m pip install --upgrade pip' command.\u001b[0m\n"
     ]
    }
   ],
   "source": [
    "!pip install --ignore-installed --prefix=$PREFIX_PATH transformers sklearn\n",
    "\n"
   ]
  },
  {
   "cell_type": "code",
   "execution_count": 4,
   "metadata": {
    "id": "0VqF3MZxzEFz"
   },
   "outputs": [],
   "source": [
    "from transformers import pipeline, set_seed\n",
    "import re\n",
    "import pandas as pd\n",
    "import tensorflow_hub as hub\n",
    "from datetime import datetime\n",
    "from sklearn.metrics.pairwise import cosine_similarity\n",
    "import tensorflow as tf\n",
    "\n",
    "\n",
    "import numpy as np\n",
    "loadFromFile=True"
   ]
  },
  {
   "cell_type": "code",
   "execution_count": 5,
   "metadata": {
    "colab": {
     "base_uri": "https://localhost:8080/"
    },
    "executionInfo": {
     "elapsed": 269,
     "status": "ok",
     "timestamp": 1618789763458,
     "user": {
      "displayName": "Mahir Patel",
      "photoUrl": "",
      "userId": "16954459501034840582"
     },
     "user_tz": 240
    },
    "id": "M-02lJPN4GTL",
    "outputId": "e2de7890-f550-42b9-c437-23c46d6d6f89"
   },
   "outputs": [],
   "source": [
    "# from google.colab import drive\n",
    "# drive.mount('/content/drive')\n",
    "# os.chdir('/content/drive/MyDrive/CS505/RelevanceDetector/')"
   ]
  },
  {
   "cell_type": "code",
   "execution_count": 6,
   "metadata": {
    "colab": {
     "base_uri": "https://localhost:8080/"
    },
    "executionInfo": {
     "elapsed": 506,
     "status": "ok",
     "timestamp": 1618794582512,
     "user": {
      "displayName": "Mahir Patel",
      "photoUrl": "",
      "userId": "16954459501034840582"
     },
     "user_tz": 240
    },
    "id": "GUeFnCjYQbPw",
    "outputId": "29badfe1-b58f-4017-c0f2-6fa967fe5ee8"
   },
   "outputs": [
    {
     "name": "stdout",
     "output_type": "stream",
     "text": [
      "loaded from storage\n",
      "650\n",
      "650\n"
     ]
    }
   ],
   "source": [
    "prepend=datetime.now().strftime(\"%m-%d-%Y-%H-%M-%S-\")\n",
    "dataset = pd.read_excel('CS505-gunviolence/GVFC_AnnotatedHeadlines.xlsx', index_col=0)\n",
    "if not loadFromFile:\n",
    "    true=dataset[dataset['V3relevance']==1]\n",
    "    false=dataset[dataset['V3relevance']==0]\n",
    "    trainDataset=true.sample(frac=0.5)\n",
    "    testDataset=true.drop(trainDataset.index)\n",
    "    ftrainDataset=false.sample(frac=0.5)\n",
    "    ftestDataset=false.drop(ftrainDataset.index)\n",
    "    trainDataset=trainDataset.append(ftrainDataset).sample(frac=1)\n",
    "    testDataset=testDataset.append(ftestDataset).sample(frac=1)\n",
    "    indices=np.array(trainDataset.index)\n",
    "    np.save(open('train_indices.npy','wb'),indices)\n",
    "else:\n",
    "    print('loaded from storage')\n",
    "    indices=np.load(open('train_indices.npy','rb'))\n",
    "    trainDataset=dataset.iloc[indices]\n",
    "    testDataset=dataset.drop(indices)\n",
    "print(len(trainDataset))\n",
    "print(len(testDataset))"
   ]
  },
  {
   "cell_type": "code",
   "execution_count": 7,
   "metadata": {
    "executionInfo": {
     "elapsed": 22949,
     "status": "ok",
     "timestamp": 1618794412623,
     "user": {
      "displayName": "Mahir Patel",
      "photoUrl": "",
      "userId": "16954459501034840582"
     },
     "user_tz": 240
    },
    "id": "oXnlpsYi4Cw7",
    "pycharm": {
     "name": "#%%\n"
    }
   },
   "outputs": [
    {
     "name": "stderr",
     "output_type": "stream",
     "text": [
      "INFO:absl:Using /projectnb/cs505/mahirp/tfcache/ to cache modules.\n",
      "All model checkpoint layers were used when initializing TFGPT2LMHeadModel.\n",
      "\n",
      "All the layers of TFGPT2LMHeadModel were initialized from the model checkpoint at gpt2.\n",
      "If your task is similar to the task the model of the checkpoint was trained on, you can already use TFGPT2LMHeadModel for predictions without further training.\n"
     ]
    }
   ],
   "source": [
    "\n",
    "embed = hub.load(\"https://tfhub.dev/google/universal-sentence-encoder-large/5\")\n",
    "generator = pipeline('text-generation', model='gpt2',device=0)\n",
    "tokenizer=generator.tokenizer"
   ]
  },
  {
   "cell_type": "code",
   "execution_count": 8,
   "metadata": {
    "colab": {
     "base_uri": "https://localhost:8080/"
    },
    "id": "rzWQvnEtQwls",
    "outputId": "690a4fa2-483c-433c-fc18-e116f1401c41"
   },
   "outputs": [],
   "source": [
    "prepend=datetime.now().strftime(\"%m-%d-%Y-%H-%M-%S-\")\n",
    "def generateDataset(dataset,isTest=False):\n",
    "    df = pd.DataFrame(columns=['original','headline','generated','relevant'])\n",
    "    c=0\n",
    "    gen_seq=2 if not isTest else 1\n",
    "    for original,headline,caption,relevant in zip(dataset['whole_text'],dataset['news_title'],dataset['generated_caption_of_lead_image'],dataset['V3relevance']):\n",
    "        print(\"{}/{}\".format(c,len(trainDataset)))\n",
    "        c+=1\n",
    "        text=generator(caption, max_length=min(100,len(original)), num_return_sequences=gen_seq)\n",
    "        headLineText=generator(headline,max_length=min(100,len(original)),num_return_sequences=gen_seq)\n",
    "        for t,h in zip(text,headLineText):\n",
    "          df=df.append({'original':original,'headline':h['generated_text'],'generated': t['generated_text'],'relevant':relevant},ignore_index = True)\n",
    "    return df"
   ]
  },
  {
   "cell_type": "code",
   "execution_count": 16,
   "metadata": {
    "id": "Tl9t72_Hyj9E"
   },
   "outputs": [],
   "source": [
    "regexMap = { r\"\\n\":\" \",r\"\\\\\":\" \",r\"[\\s]+\": \" \"}\n",
    "def cleanData(text):\n",
    "    for regx in regexMap.keys():\n",
    "        text = re.sub(regx, regexMap[regx], text)\n",
    "    return text"
   ]
  },
  {
   "cell_type": "code",
   "execution_count": 11,
   "metadata": {
    "id": "x-ZORhM_30Ru"
   },
   "outputs": [],
   "source": [
    "def getEmbeddings(text):\n",
    "  return embed([text]).numpy().astype(np.float)"
   ]
  },
  {
   "cell_type": "code",
   "execution_count": null,
   "metadata": {},
   "outputs": [],
   "source": [
    "trainDF = generateDataset(trainDataset)\n",
    "trainDF['generated']=list(map(cleanData,trainDF['generated']))\n",
    "trainDF['headline']=list(map(cleanData,trainDF['headline']))\n",
    "trainDF['generated']=list(map(getEmbeddings,trainDF['generated']))\n",
    "print('done')\n",
    "trainDF['headline']=list(map(getEmbeddings,trainDF['headline']))\n",
    "print('done')\n",
    "trainDF['original']=list(map(getEmbeddings,trainDF['original']))\n",
    "trainDF.to_csv('CS505-gunviolence/'+prepend+'train_relevanceDatasetV3.csv',index=False)"
   ]
  },
  {
   "cell_type": "code",
   "execution_count": null,
   "metadata": {},
   "outputs": [],
   "source": [
    "testDF = generateDataset(testDataset,True)\n",
    "testDF['generated']=list(map(cleanData,testDF['generated']))\n",
    "testDF['headline']=list(map(cleanData,testDF['headline']))\n",
    "testDF['generated']=list(map(getEmbeddings,testDF['generated']))\n",
    "print('done')\n",
    "testDF['headline']=list(map(getEmbeddings,testDF['headline']))\n",
    "print('done')\n",
    "testDF['original']=list(map(getEmbeddings,testDF['original']))\n",
    "testDF.to_csv('CS505-gunviolence/'+prepend+'test_relevanceDatasetV3.csv',index=False)"
   ]
  },
  {
   "cell_type": "code",
   "execution_count": 266,
   "metadata": {
    "id": "GlkeMGhW496x"
   },
   "outputs": [],
   "source": [
    "# df=pd.read_csv('CS505-gunviolence/'+prepend+'train_relevanceDatasetV3.csv')\n",
    "df = pd.read_csv('CS505-gunviolence/04-19-2021-04-43-45-train_relevanceDatasetV3.csv')\n",
    "labels=df.pop('relevant')"
   ]
  },
  {
   "cell_type": "code",
   "execution_count": 100,
   "metadata": {
    "colab": {
     "base_uri": "https://localhost:8080/",
     "height": 204
    },
    "executionInfo": {
     "elapsed": 278,
     "status": "ok",
     "timestamp": 1618791142696,
     "user": {
      "displayName": "Mahir Patel",
      "photoUrl": "",
      "userId": "16954459501034840582"
     },
     "user_tz": 240
    },
    "id": "CbeWVdWjeGTn",
    "outputId": "f0b25841-3f57-4589-9bcf-e99240af53a9"
   },
   "outputs": [
    {
     "data": {
      "text/html": [
       "<div>\n",
       "<style scoped>\n",
       "    .dataframe tbody tr th:only-of-type {\n",
       "        vertical-align: middle;\n",
       "    }\n",
       "\n",
       "    .dataframe tbody tr th {\n",
       "        vertical-align: top;\n",
       "    }\n",
       "\n",
       "    .dataframe thead th {\n",
       "        text-align: right;\n",
       "    }\n",
       "</style>\n",
       "<table border=\"1\" class=\"dataframe\">\n",
       "  <thead>\n",
       "    <tr style=\"text-align: right;\">\n",
       "      <th></th>\n",
       "      <th>original</th>\n",
       "      <th>headline</th>\n",
       "      <th>generated</th>\n",
       "      <th>relevant</th>\n",
       "    </tr>\n",
       "  </thead>\n",
       "  <tbody>\n",
       "    <tr>\n",
       "      <th>0</th>\n",
       "      <td>[[-5.22599556e-02  9.07361284e-02 -4.04457152e...</td>\n",
       "      <td>[[-0.0157384   0.05399382 -0.14654243  0.00188...</td>\n",
       "      <td>[[ 0.02107025  0.03470307  0.01478738 -0.00714...</td>\n",
       "      <td>0</td>\n",
       "    </tr>\n",
       "    <tr>\n",
       "      <th>1</th>\n",
       "      <td>[[-5.22599481e-02  9.07361135e-02 -4.04457226e...</td>\n",
       "      <td>[[-8.97298940e-03  3.86566184e-02 -1.10700771e...</td>\n",
       "      <td>[[ 2.21908875e-02  6.18911348e-02  1.50320400e...</td>\n",
       "      <td>0</td>\n",
       "    </tr>\n",
       "    <tr>\n",
       "      <th>2</th>\n",
       "      <td>[[-0.01018255  0.08759642 -0.05752711 -0.00277...</td>\n",
       "      <td>[[ 2.33617481e-02 -3.09682321e-02 -3.69818974e...</td>\n",
       "      <td>[[-0.02904347  0.03948796  0.01419673  0.06375...</td>\n",
       "      <td>0</td>\n",
       "    </tr>\n",
       "    <tr>\n",
       "      <th>3</th>\n",
       "      <td>[[-0.01018255  0.08759639 -0.05752707 -0.00277...</td>\n",
       "      <td>[[ 3.61642949e-02  1.24041177e-02  2.65971124e...</td>\n",
       "      <td>[[-4.78867516e-02 -6.19829409e-02  1.65775195e...</td>\n",
       "      <td>0</td>\n",
       "    </tr>\n",
       "    <tr>\n",
       "      <th>4</th>\n",
       "      <td>[[-4.80321720e-02  1.12838263e-03 -2.45341770e...</td>\n",
       "      <td>[[ 0.01234712 -0.07639864  0.01749216 -0.02077...</td>\n",
       "      <td>[[ 0.01378198 -0.06673057  0.04916419 -0.03802...</td>\n",
       "      <td>1</td>\n",
       "    </tr>\n",
       "  </tbody>\n",
       "</table>\n",
       "</div>"
      ],
      "text/plain": [
       "                                            original  \\\n",
       "0  [[-5.22599556e-02  9.07361284e-02 -4.04457152e...   \n",
       "1  [[-5.22599481e-02  9.07361135e-02 -4.04457226e...   \n",
       "2  [[-0.01018255  0.08759642 -0.05752711 -0.00277...   \n",
       "3  [[-0.01018255  0.08759639 -0.05752707 -0.00277...   \n",
       "4  [[-4.80321720e-02  1.12838263e-03 -2.45341770e...   \n",
       "\n",
       "                                            headline  \\\n",
       "0  [[-0.0157384   0.05399382 -0.14654243  0.00188...   \n",
       "1  [[-8.97298940e-03  3.86566184e-02 -1.10700771e...   \n",
       "2  [[ 2.33617481e-02 -3.09682321e-02 -3.69818974e...   \n",
       "3  [[ 3.61642949e-02  1.24041177e-02  2.65971124e...   \n",
       "4  [[ 0.01234712 -0.07639864  0.01749216 -0.02077...   \n",
       "\n",
       "                                           generated  relevant  \n",
       "0  [[ 0.02107025  0.03470307  0.01478738 -0.00714...         0  \n",
       "1  [[ 2.21908875e-02  6.18911348e-02  1.50320400e...         0  \n",
       "2  [[-0.02904347  0.03948796  0.01419673  0.06375...         0  \n",
       "3  [[-4.78867516e-02 -6.19829409e-02  1.65775195e...         0  \n",
       "4  [[ 0.01378198 -0.06673057  0.04916419 -0.03802...         1  "
      ]
     },
     "execution_count": 100,
     "metadata": {},
     "output_type": "execute_result"
    }
   ],
   "source": [
    "df.head()"
   ]
  },
  {
   "cell_type": "code",
   "execution_count": 254,
   "metadata": {
    "id": "iRzSJpqh0_Rj"
   },
   "outputs": [],
   "source": [
    "def getModel():\n",
    "  inp=tf.keras.Input(shape=(3,512),name='f1')\n",
    "  x=tf.keras.layers.Dense(512,activation='relu')(inp)\n",
    "  x=tf.keras.layers.Flatten()(x)\n",
    "  x=tf.keras.layers.Dense(1,activation='sigmoid')(x)\n",
    "  return tf.keras.Model(inp,x)"
   ]
  },
  {
   "cell_type": "code",
   "execution_count": 255,
   "metadata": {
    "id": "DlE-hSRm2pce"
   },
   "outputs": [],
   "source": [
    "model=getModel()"
   ]
  },
  {
   "cell_type": "code",
   "execution_count": 256,
   "metadata": {
    "colab": {
     "base_uri": "https://localhost:8080/"
    },
    "executionInfo": {
     "elapsed": 245,
     "status": "ok",
     "timestamp": 1618793147288,
     "user": {
      "displayName": "Mahir Patel",
      "photoUrl": "",
      "userId": "16954459501034840582"
     },
     "user_tz": 240
    },
    "id": "qkDEqvqo2ueO",
    "outputId": "d1e65fa4-a806-4c72-a1e4-f8cf47358129"
   },
   "outputs": [
    {
     "name": "stdout",
     "output_type": "stream",
     "text": [
      "Model: \"functional_43\"\n",
      "_________________________________________________________________\n",
      "Layer (type)                 Output Shape              Param #   \n",
      "=================================================================\n",
      "f1 (InputLayer)              [(None, 3, 512)]          0         \n",
      "_________________________________________________________________\n",
      "dense_44 (Dense)             (None, 3, 512)            262656    \n",
      "_________________________________________________________________\n",
      "flatten_16 (Flatten)         (None, 1536)              0         \n",
      "_________________________________________________________________\n",
      "dense_45 (Dense)             (None, 1)                 1537      \n",
      "=================================================================\n",
      "Total params: 264,193\n",
      "Trainable params: 264,193\n",
      "Non-trainable params: 0\n",
      "_________________________________________________________________\n"
     ]
    }
   ],
   "source": [
    "model.compile(optimizer=tf.keras.optimizers.Adam(),\n",
    "              loss=tf.keras.losses.BinaryCrossentropy(from_logits=True),\n",
    "              metrics=['accuracy'])\n",
    "model.summary()"
   ]
  },
  {
   "cell_type": "code",
   "execution_count": null,
   "metadata": {
    "id": "l1wVA9oR6grv"
   },
   "outputs": [],
   "source": []
  },
  {
   "cell_type": "code",
   "execution_count": 257,
   "metadata": {
    "colab": {
     "base_uri": "https://localhost:8080/"
    },
    "executionInfo": {
     "elapsed": 322,
     "status": "ok",
     "timestamp": 1618792787772,
     "user": {
      "displayName": "Mahir Patel",
      "photoUrl": "",
      "userId": "16954459501034840582"
     },
     "user_tz": 240
    },
    "id": "K0VDIEa0dzUU",
    "outputId": "a66c2d8b-d924-4356-c10a-b4fdfce1c6d5"
   },
   "outputs": [
    {
     "data": {
      "text/plain": [
       "(1, 512)"
      ]
     },
     "execution_count": 257,
     "metadata": {},
     "output_type": "execute_result"
    }
   ],
   "source": [
    "t=df['original'][20]\n",
    "regexMap = { r\"\\n\":\" \",r\"[\\s]+\": \",\",r\"\\[,\":\"[\"}\n",
    "t=np.array(eval(cleanData(t)),dtype=np.float)\n",
    "t.shape"
   ]
  },
  {
   "cell_type": "code",
   "execution_count": 267,
   "metadata": {
    "id": "BjC2N0Qm96g8"
   },
   "outputs": [],
   "source": [
    "features=[]\n",
    "for index,data in df.iterrows():\n",
    "  c1=np.array(eval(cleanData(data['headline'])),dtype=np.float)\n",
    "  c2=np.array(eval(cleanData(data['generated'])),dtype=np.float)\n",
    "  c3=np.array(eval(cleanData(data['original'])),dtype=np.float)\n",
    "#   features.append(np.vstack((c1,c2)))\n",
    "  features.append(np.vstack((c1,c2,c3)))"
   ]
  },
  {
   "cell_type": "code",
   "execution_count": 274,
   "metadata": {
    "id": "ETxXTXT9BfgW"
   },
   "outputs": [],
   "source": [
    "features=np.array(features,dtype=np.float)\n"
   ]
  },
  {
   "cell_type": "code",
   "execution_count": 275,
   "metadata": {
    "colab": {
     "base_uri": "https://localhost:8080/"
    },
    "executionInfo": {
     "elapsed": 252,
     "status": "ok",
     "timestamp": 1618792854556,
     "user": {
      "displayName": "Mahir Patel",
      "photoUrl": "",
      "userId": "16954459501034840582"
     },
     "user_tz": 240
    },
    "id": "llgaB_YAMnme",
    "outputId": "51b01f5a-7b09-4da0-aaf4-2710f7dc05a9"
   },
   "outputs": [
    {
     "data": {
      "text/plain": [
       "(1300, 3, 512)"
      ]
     },
     "execution_count": 275,
     "metadata": {},
     "output_type": "execute_result"
    }
   ],
   "source": [
    "features.shape"
   ]
  },
  {
   "cell_type": "code",
   "execution_count": 276,
   "metadata": {
    "id": "KosL8qJ_6rPF"
   },
   "outputs": [],
   "source": [
    "dataset = tf.data.Dataset.from_tensor_slices(({'f1':features}, labels.values)).batch(1)\n"
   ]
  },
  {
   "cell_type": "code",
   "execution_count": 277,
   "metadata": {
    "colab": {
     "base_uri": "https://localhost:8080/"
    },
    "executionInfo": {
     "elapsed": 241,
     "status": "ok",
     "timestamp": 1618793158580,
     "user": {
      "displayName": "Mahir Patel",
      "photoUrl": "",
      "userId": "16954459501034840582"
     },
     "user_tz": 240
    },
    "id": "SyNwn6an8Sgm",
    "outputId": "3aed266b-fbef-49f9-b524-f1ebd3b906cd"
   },
   "outputs": [
    {
     "data": {
      "text/plain": [
       "33"
      ]
     },
     "execution_count": 277,
     "metadata": {},
     "output_type": "execute_result"
    }
   ],
   "source": [
    "l=len(dataset)\n",
    "dataset=dataset.shuffle(int(l*0.80))\n",
    "train_set=dataset.take(int(l*0.75))\n",
    "test_set=dataset.skip(int(l*0.75))\n",
    "val_set=test_set.take(int(l*0.75*0.30))\n",
    "test_set=test_set.skip(int(l*0.75*0.30))\n",
    "len(test_set)"
   ]
  },
  {
   "cell_type": "code",
   "execution_count": 278,
   "metadata": {
    "colab": {
     "base_uri": "https://localhost:8080/"
    },
    "executionInfo": {
     "elapsed": 77822,
     "status": "ok",
     "timestamp": 1618793238956,
     "user": {
      "displayName": "Mahir Patel",
      "photoUrl": "",
      "userId": "16954459501034840582"
     },
     "user_tz": 240
    },
    "id": "04lXFMOa9Kap",
    "outputId": "fabd1c4e-883b-466f-fdb7-09452301fdab"
   },
   "outputs": [
    {
     "name": "stdout",
     "output_type": "stream",
     "text": [
      "Epoch 1/20\n",
      "975/975 [==============================] - 1s 1ms/step - loss: 0.5121 - accuracy: 0.9631 - val_loss: 0.5210 - val_accuracy: 0.9589\n",
      "Epoch 2/20\n",
      "975/975 [==============================] - 1s 1ms/step - loss: 0.5132 - accuracy: 0.9600 - val_loss: 0.5205 - val_accuracy: 0.9692\n",
      "Epoch 3/20\n",
      "975/975 [==============================] - 1s 1ms/step - loss: 0.5142 - accuracy: 0.9631 - val_loss: 0.5082 - val_accuracy: 0.9692\n",
      "Epoch 4/20\n",
      "975/975 [==============================] - 1s 1ms/step - loss: 0.5034 - accuracy: 0.9692 - val_loss: 0.5259 - val_accuracy: 0.9521\n",
      "Epoch 5/20\n",
      "975/975 [==============================] - 1s 1ms/step - loss: 0.5086 - accuracy: 0.9662 - val_loss: 0.5133 - val_accuracy: 0.9555\n",
      "Epoch 6/20\n",
      "975/975 [==============================] - 1s 1ms/step - loss: 0.5098 - accuracy: 0.9651 - val_loss: 0.5135 - val_accuracy: 0.9521\n",
      "Epoch 7/20\n",
      "975/975 [==============================] - 1s 1ms/step - loss: 0.5148 - accuracy: 0.9672 - val_loss: 0.4902 - val_accuracy: 0.9829\n",
      "Epoch 8/20\n",
      "975/975 [==============================] - 1s 1ms/step - loss: 0.5130 - accuracy: 0.9672 - val_loss: 0.5032 - val_accuracy: 0.9760\n",
      "Epoch 9/20\n",
      "975/975 [==============================] - 1s 1ms/step - loss: 0.5122 - accuracy: 0.9672 - val_loss: 0.5049 - val_accuracy: 0.9555\n",
      "Epoch 10/20\n",
      "975/975 [==============================] - 1s 1ms/step - loss: 0.5078 - accuracy: 0.9754 - val_loss: 0.5001 - val_accuracy: 0.9692\n",
      "Epoch 11/20\n",
      "975/975 [==============================] - 1s 1ms/step - loss: 0.5036 - accuracy: 0.9672 - val_loss: 0.5304 - val_accuracy: 0.9521\n",
      "Epoch 12/20\n",
      "975/975 [==============================] - 1s 1ms/step - loss: 0.5116 - accuracy: 0.9631 - val_loss: 0.5162 - val_accuracy: 0.9726\n",
      "Epoch 13/20\n",
      "975/975 [==============================] - 1s 1ms/step - loss: 0.5214 - accuracy: 0.9518 - val_loss: 0.5164 - val_accuracy: 0.9555\n",
      "Epoch 14/20\n",
      "975/975 [==============================] - 1s 1ms/step - loss: 0.5056 - accuracy: 0.9692 - val_loss: 0.5356 - val_accuracy: 0.9555\n",
      "Epoch 15/20\n",
      "975/975 [==============================] - 1s 1ms/step - loss: 0.5085 - accuracy: 0.9713 - val_loss: 0.5113 - val_accuracy: 0.9760\n",
      "Epoch 16/20\n",
      "975/975 [==============================] - 1s 1ms/step - loss: 0.5037 - accuracy: 0.9672 - val_loss: 0.5040 - val_accuracy: 0.9589\n",
      "Epoch 17/20\n",
      "975/975 [==============================] - 1s 1ms/step - loss: 0.5093 - accuracy: 0.9692 - val_loss: 0.4974 - val_accuracy: 0.9623\n",
      "Epoch 18/20\n",
      "975/975 [==============================] - 1s 1ms/step - loss: 0.5073 - accuracy: 0.9754 - val_loss: 0.4954 - val_accuracy: 0.9692\n",
      "Epoch 19/20\n",
      "975/975 [==============================] - 1s 1ms/step - loss: 0.5051 - accuracy: 0.9692 - val_loss: 0.5184 - val_accuracy: 0.9658\n",
      "Epoch 20/20\n",
      "975/975 [==============================] - 1s 1ms/step - loss: 0.5104 - accuracy: 0.9692 - val_loss: 0.5018 - val_accuracy: 0.9658\n"
     ]
    }
   ],
   "source": [
    "history=model.fit(train_set,validation_data=val_set,epochs=20)"
   ]
  },
  {
   "cell_type": "code",
   "execution_count": 279,
   "metadata": {
    "colab": {
     "base_uri": "https://localhost:8080/"
    },
    "executionInfo": {
     "elapsed": 9142,
     "status": "ok",
     "timestamp": 1618793239315,
     "user": {
      "displayName": "Mahir Patel",
      "photoUrl": "",
      "userId": "16954459501034840582"
     },
     "user_tz": 240
    },
    "id": "49cNWFQjE1nR",
    "outputId": "f9f0222d-ee3e-4378-f402-eacb1da65023"
   },
   "outputs": [
    {
     "name": "stdout",
     "output_type": "stream",
     "text": [
      "33/33 [==============================] - 0s 788us/step - loss: 0.4702 - accuracy: 0.9697\n"
     ]
    }
   ],
   "source": [
    "x=model.evaluate(test_set)"
   ]
  },
  {
   "cell_type": "code",
   "execution_count": 62,
   "metadata": {
    "id": "-FJzla8REUwg"
   },
   "outputs": [],
   "source": [
    "model.save(prepend+'3relevanceClassifier.h5')"
   ]
  },
  {
   "cell_type": "code",
   "execution_count": 280,
   "metadata": {
    "id": "efgSc7weWxH3"
   },
   "outputs": [],
   "source": [
    "results={}\n",
    "sampleCount=0\n",
    "testDF = pd.read_csv('CS505-gunviolence/04-19-2021-04-43-45-test_relevanceDatasetV3.csv')\n",
    "features=[]\n",
    "labels=testDF.pop('relevant')\n",
    "for index,data in testDF.iterrows():\n",
    "  c1=np.array(eval(cleanData(data['headline'])),dtype=np.float)\n",
    "  c2=np.array(eval(cleanData(data['generated'])),dtype=np.float)\n",
    "#   features.append(np.vstack((c1,c2)))  \n",
    "  c3=np.array(eval(cleanData(data['original'])),dtype=np.float)\n",
    "  features.append(np.vstack((c1,c2,c3)))\n",
    "features=np.array(features,dtype=np.float)"
   ]
  },
  {
   "cell_type": "code",
   "execution_count": 281,
   "metadata": {
    "colab": {
     "base_uri": "https://localhost:8080/",
     "height": 1000
    },
    "executionInfo": {
     "elapsed": 77258,
     "status": "error",
     "timestamp": 1618793322884,
     "user": {
      "displayName": "Mahir Patel",
      "photoUrl": "",
      "userId": "16954459501034840582"
     },
     "user_tz": 240
    },
    "id": "8LMN_mpcFc-X",
    "outputId": "8f4cc70f-9320-4621-8bb6-bbffcaa73ef7"
   },
   "outputs": [],
   "source": [
    "# sample=testDataset.sample(n=10)\n",
    "# set_seed(1029102)\n",
    "# output=[]\n",
    "# i=1\n",
    "# test_input=[]\n",
    "# test_label=[]\n",
    "# for original,headline,caption,relevant in zip(sample['whole_text'],sample['news_title'],sample['generated_caption_of_lead_image'],sample['V3relevance']):\n",
    "#     print(i)\n",
    "#     i+=1\n",
    "#     text=generator(caption, max_length=min(100,len(original)))\n",
    "#     headlineText=generator(headline, max_length=min(64,len(original)))\n",
    "#     originalEmbedding=embed([original]).numpy()\n",
    "#     textEmbedding=embed([text[0]['generated_text']]).numpy()\n",
    "#     headlineEmbedding=embed([headlineText[0]['generated_text']]).numpy()\n",
    "#     test_input.append(np.vstack((headlineEmbedding,textEmbedding,originalEmbedding)))\n",
    "#     test_label.append(relevant)\n",
    "\n"
   ]
  },
  {
   "cell_type": "code",
   "execution_count": 282,
   "metadata": {
    "colab": {
     "base_uri": "https://localhost:8080/"
    },
    "executionInfo": {
     "elapsed": 859,
     "status": "ok",
     "timestamp": 1618793327301,
     "user": {
      "displayName": "Mahir Patel",
      "photoUrl": "",
      "userId": "16954459501034840582"
     },
     "user_tz": 240
    },
    "id": "f1JKDn9YXECg",
    "outputId": "39a81f88-9c56-4989-abeb-b0a545fa305a"
   },
   "outputs": [
    {
     "name": "stdout",
     "output_type": "stream",
     "text": [
      "(650, 3, 512)\n",
      "650/650 [==============================] - 0s 758us/step - loss: 0.6752 - accuracy: 0.6308\n"
     ]
    }
   ],
   "source": [
    "# test_input=np.array(test_input,dtype=np.float)\n",
    "# test_label=np.array(test_label)\n",
    "print(features.shape)\n",
    "test_dataset = tf.data.Dataset.from_tensor_slices(({'f1':features}, labels)).batch(1)\n",
    "x=model.evaluate(test_dataset)"
   ]
  },
  {
   "cell_type": "code",
   "execution_count": 249,
   "metadata": {
    "id": "wVbnwJCdHsC3"
   },
   "outputs": [],
   "source": [
    "results[sampleCount]=x\n",
    "sampleCount+=1"
   ]
  },
  {
   "cell_type": "code",
   "execution_count": 294,
   "metadata": {},
   "outputs": [
    {
     "ename": "ModuleNotFoundError",
     "evalue": "No module named 'sklearn.metrics.pairwise.cosine_similarity'; 'sklearn.metrics.pairwise' is not a package",
     "output_type": "error",
     "traceback": [
      "\u001b[0;31m---------------------------------------------------------------------------\u001b[0m",
      "\u001b[0;31mModuleNotFoundError\u001b[0m                       Traceback (most recent call last)",
      "\u001b[0;32m<ipython-input-294-b5605c58c0f4>\u001b[0m in \u001b[0;36m<module>\u001b[0;34m\u001b[0m\n\u001b[1;32m      1\u001b[0m \u001b[0mtrainDF\u001b[0m \u001b[0;34m=\u001b[0m \u001b[0mpd\u001b[0m\u001b[0;34m.\u001b[0m\u001b[0mread_csv\u001b[0m\u001b[0;34m(\u001b[0m\u001b[0;34m'CS505-gunviolence/04-19-2021-04-43-45-train_relevanceDatasetV3.csv'\u001b[0m\u001b[0;34m)\u001b[0m\u001b[0;34m\u001b[0m\u001b[0;34m\u001b[0m\u001b[0m\n\u001b[1;32m      2\u001b[0m \u001b[0mtestDF\u001b[0m \u001b[0;34m=\u001b[0m \u001b[0mpd\u001b[0m\u001b[0;34m.\u001b[0m\u001b[0mread_csv\u001b[0m\u001b[0;34m(\u001b[0m\u001b[0;34m'CS505-gunviolence/04-19-2021-04-43-45-test_relevanceDatasetV3.csv'\u001b[0m\u001b[0;34m)\u001b[0m\u001b[0;34m\u001b[0m\u001b[0;34m\u001b[0m\u001b[0m\n\u001b[0;32m----> 3\u001b[0;31m \u001b[0;32mimport\u001b[0m \u001b[0msklearn\u001b[0m\u001b[0;34m.\u001b[0m\u001b[0mmetrics\u001b[0m\u001b[0;34m.\u001b[0m\u001b[0mpairwise\u001b[0m\u001b[0;34m.\u001b[0m\u001b[0mcosine_similarity\u001b[0m\u001b[0;34m\u001b[0m\u001b[0;34m\u001b[0m\u001b[0m\n\u001b[0m\u001b[1;32m      4\u001b[0m \u001b[0mtrainDF\u001b[0m\u001b[0;34m.\u001b[0m\u001b[0mhead\u001b[0m\u001b[0;34m(\u001b[0m\u001b[0;34m)\u001b[0m\u001b[0;34m\u001b[0m\u001b[0;34m\u001b[0m\u001b[0m\n",
      "\u001b[0;31mModuleNotFoundError\u001b[0m: No module named 'sklearn.metrics.pairwise.cosine_similarity'; 'sklearn.metrics.pairwise' is not a package"
     ]
    }
   ],
   "source": [
    "trainDF = pd.read_csv('CS505-gunviolence/04-19-2021-04-43-45-train_relevanceDatasetV3.csv')\n",
    "testDF = pd.read_csv('CS505-gunviolence/04-19-2021-04-43-45-test_relevanceDatasetV3.csv')\n",
    "from sklearn.\n",
    "trainDF.head()"
   ]
  },
  {
   "cell_type": "code",
   "execution_count": null,
   "metadata": {},
   "outputs": [],
   "source": [
    "features=[]\n",
    "for index,data in trainDF.iterrows():\n",
    "  c1=np.array(eval(cleanData(data['headline'])),dtype=np.float)\n",
    "  c2=np.array(eval(cleanData(data['generated'])),dtype=np.float)\n",
    "  c3=np.array(eval(cleanData(data['original'])),dtype=np.float)\n",
    "  print(cosine_similarity(c1,c2),data[''])\n",
    "#   features.append(np.vstack((c1,c2)))\n",
    "#   features.append(np.vstack((c1,c2,c3)))"
   ]
  }
 ],
 "metadata": {
  "accelerator": "GPU",
  "colab": {
   "collapsed_sections": [],
   "name": "RelevanceDetector.ipynb",
   "provenance": []
  },
  "kernelspec": {
   "display_name": "Python 3",
   "language": "python",
   "name": "python3"
  },
  "language_info": {
   "codemirror_mode": {
    "name": "ipython",
    "version": 3
   },
   "file_extension": ".py",
   "mimetype": "text/x-python",
   "name": "python",
   "nbconvert_exporter": "python",
   "pygments_lexer": "ipython3",
   "version": "3.7.9"
  }
 },
 "nbformat": 4,
 "nbformat_minor": 4
}
