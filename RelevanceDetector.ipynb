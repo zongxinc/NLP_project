{
 "cells": [
  {
   "cell_type": "code",
   "execution_count": 137,
   "metadata": {
    "executionInfo": {
     "elapsed": 245,
     "status": "ok",
     "timestamp": 1619332527932,
     "user": {
      "displayName": "Mahir Patel",
      "photoUrl": "",
      "userId": "16954459501034840582"
     },
     "user_tz": 240
    },
    "id": "FiRXygKMgWGB"
   },
   "outputs": [],
   "source": [
    "import os\n",
    "import sys\n",
    "os.environ['TRANSFORMERS_CACHE'] = '/projectnb/cs505/mahirp/cache'\n",
    "os.environ['PREFIX_PATH']=\"/projectnb/cs505/mahirp/python\"\n",
    "os.environ['TFHUB_CACHE_DIR']='/projectnb/cs505/mahirp/tfcache'\n",
    "sys.path.append('/projectnb/cs505/mahirp/python/bin')\n",
    "sys.path.append('/projectnb/cs505/mahirp/cache')\n",
    "sys.path.append('/projectnb/cs505/mahirp/tfcache')\n",
    "sys.path.append('/projectnb/cs505/mahirp/usr/bin')\n"
   ]
  },
  {
   "cell_type": "code",
   "execution_count": null,
   "metadata": {
    "colab": {
     "base_uri": "https://localhost:8080/"
    },
    "executionInfo": {
     "elapsed": 5592,
     "status": "ok",
     "timestamp": 1619328626461,
     "user": {
      "displayName": "Mahir Patel",
      "photoUrl": "",
      "userId": "16954459501034840582"
     },
     "user_tz": 240
    },
    "id": "MCPSM8T04Cwz",
    "outputId": "2b7b48da-b357-4990-f030-3c98cf4433e7"
   },
   "outputs": [],
   "source": [
    "!pip install --ignore-installed --prefix=$PREFIX_PATH transformers sklearn\n",
    "\n"
   ]
  },
  {
   "cell_type": "code",
   "execution_count": 2,
   "metadata": {
    "colab": {
     "base_uri": "https://localhost:8080/"
    },
    "executionInfo": {
     "elapsed": 17314,
     "status": "ok",
     "timestamp": 1619332504096,
     "user": {
      "displayName": "Mahir Patel",
      "photoUrl": "",
      "userId": "16954459501034840582"
     },
     "user_tz": 240
    },
    "id": "0VqF3MZxzEFz",
    "outputId": "60fa0ad9-41b4-4cc2-d418-4a95e12d2ee3"
   },
   "outputs": [],
   "source": [
    "from transformers import pipeline, set_seed\n",
    "import re\n",
    "import pandas as pd\n",
    "import tensorflow_hub as hub\n",
    "from datetime import datetime\n",
    "from sklearn.metrics.pairwise import cosine_similarity\n",
    "import random\n",
    "import tensorflow as tf\n",
    "import matplotlib.pyplot as plt\n",
    "%matplotlib inline\n",
    "tf.device('/GPU:0')\n",
    "import numpy as np\n",
    "import nltk\n",
    "nltk.data.path.append(\"/projectnb/cs505/mahirp/nltk/\")\n",
    "from nltk.corpus import stopwords \n",
    "from nltk.tokenize import word_tokenize \n",
    "loadFromFile=False\n",
    "\n",
    "prepend=datetime.now().strftime(\"%m-%d-%Y-%H-%M-%S-\")\n",
    "\n",
    "stop_words = set(stopwords.words('english')) "
   ]
  },
  {
   "cell_type": "code",
   "execution_count": 3,
   "metadata": {
    "id": "mlgeEUy8gWGL",
    "outputId": "5a397304-1f4a-4bb8-ffd4-963de3692e9d"
   },
   "outputs": [
    {
     "name": "stdout",
     "output_type": "stream",
     "text": [
      "Found 1917494 word vectors.\n"
     ]
    }
   ],
   "source": [
    "useGlove=True\n",
    "if useGlove:\n",
    "    embeddings_index = {}\n",
    "    f = open('glove.42B.300d.txt')\n",
    "    for line in f:\n",
    "        values = line.split()\n",
    "        word = values[0]\n",
    "        coefs = np.asarray(values[1:], dtype='float32')\n",
    "        embeddings_index[word] = coefs\n",
    "    f.close()\n",
    "    print('Found %s word vectors.' % len(embeddings_index))"
   ]
  },
  {
   "cell_type": "code",
   "execution_count": 18,
   "metadata": {
    "colab": {
     "base_uri": "https://localhost:8080/"
    },
    "executionInfo": {
     "elapsed": 505,
     "status": "ok",
     "timestamp": 1619329232869,
     "user": {
      "displayName": "Mahir Patel",
      "photoUrl": "",
      "userId": "16954459501034840582"
     },
     "user_tz": 240
    },
    "id": "GUeFnCjYQbPw",
    "outputId": "a4031957-0e1e-4271-cd48-8a64ccd330f1"
   },
   "outputs": [
    {
     "name": "stdout",
     "output_type": "stream",
     "text": [
      "910\n",
      "390\n"
     ]
    }
   ],
   "source": [
    "prepend=datetime.now().strftime(\"%m-%d-%Y-%H-%M-%S-\")\n",
    "dataset = pd.read_excel('CS505-gunviolence/GVFC_AnnotatedHeadlines.xlsx', index_col=0)\n",
    "if not loadFromFile:\n",
    "    true=dataset[dataset['V3relevance']==1]\n",
    "    false=dataset[dataset['V3relevance']==0]\n",
    "    trainDataset=true.sample(frac=0.7)\n",
    "    testDataset=true.drop(trainDataset.index)\n",
    "    ftrainDataset=false.sample(frac=0.7)\n",
    "    ftestDataset=false.drop(ftrainDataset.index)\n",
    "    trainDataset=trainDataset.append(ftrainDataset).sample(frac=1)\n",
    "    testDataset=testDataset.append(ftestDataset).sample(frac=1)\n",
    "    indices=np.array(trainDataset.index)\n",
    "    np.save(open('train_indices.npy','wb'),indices)\n",
    "else:\n",
    "    print('loaded from storage')\n",
    "    indices=np.load(open('train_indices.npy','rb'))\n",
    "    trainDataset=dataset.iloc[indices]\n",
    "    testDataset=dataset.drop(indices)\n",
    "print(len(trainDataset))\n",
    "print(len(testDataset))"
   ]
  },
  {
   "cell_type": "code",
   "execution_count": 22,
   "metadata": {
    "colab": {
     "base_uri": "https://localhost:8080/"
    },
    "executionInfo": {
     "elapsed": 267,
     "status": "ok",
     "timestamp": 1619331150736,
     "user": {
      "displayName": "Mahir Patel",
      "photoUrl": "",
      "userId": "16954459501034840582"
     },
     "user_tz": 240
    },
    "id": "8TeJ5O8DqFq1",
    "outputId": "695a768b-1776-4e56-b092-4953c47f430a"
   },
   "outputs": [
    {
     "data": {
      "text/plain": [
       "390"
      ]
     },
     "execution_count": 22,
     "metadata": {
      "tags": []
     },
     "output_type": "execute_result"
    }
   ],
   "source": [
    "len(testDataset)"
   ]
  },
  {
   "cell_type": "code",
   "execution_count": 4,
   "metadata": {
    "colab": {
     "base_uri": "https://localhost:8080/",
     "height": 359,
     "referenced_widgets": [
      "fae7e4d68df24da49e1744c70f9f2ea3",
      "52f7ad8f2be44cc9bb6ca63aaa16f648",
      "97336e122d5042c0898cf1fe11969c8d",
      "2f263aa8ce304449874f5fe5a6b49049",
      "1b8fd963e1a7459aa9154873b448acc4",
      "184048e306a5468a95c887422bf9ac84",
      "d74eb6937bb148b1bbbbe90e7cb1cd6d",
      "54b224563816481b8e4bda2d1352c1ac",
      "272bf44ffe1e432a9bc3d0166d6d349e",
      "f262dabb420448d7a3733c9e2b56bda7",
      "b9f4f4387cd7456f80aeadf9033895d4",
      "0f46e3d5988c42ee92ac6e8fae262014",
      "c46f90dd355b48099b5f09df98b8dd3b",
      "90c87fcb176d48508dad1923cc316d6e",
      "3a9cb28800d5473f89f6d9c01d6bbafd",
      "8b9a2b18199748ada11f4d759a18dc34",
      "421e586afd84499493bc00ec56b8d308",
      "c2699d77af5d4bb298e99cad7f8ef903",
      "a4d872f361794cb79dd56837cc0fcf6f",
      "69f9b505bf64478ea4bbfcfcf4630e3f",
      "f8766ef75ce043f981722f2396eb7382",
      "059ad02d19454696b629638ce8b0f57d",
      "c8e6bccd400543979d872c752c23ebd2",
      "4d4ff788d33147db8f6ac7e625b50524",
      "4dab1ca39a13477d8e5b90092f5f39b1",
      "72b3c8b4b4ab48d1ad3719e919e9d8c2",
      "88d422b8422144c5bbbf0fbed839a906",
      "64ec8fb7c7f644b5a9db62caeba97318",
      "54891a61992d460cbda39eef3d321e3d",
      "6dbab7e53bb44b96876075a7dc040698",
      "0bb85615efb54c9d8a10208acec99f4e",
      "522a2bd98f5248df99b47410d307dde8",
      "516db872f31746c9b99d3b54a347276c",
      "c0e31816141d4f6bb15c29d1c4b8e835",
      "3285e5a93a7e456d9ae81e1b6aa98bd3",
      "322cb9faf780431a9b4e873a5705c2f5",
      "ae62783d213444c9af2bf71b10b51e98",
      "d91ebf9eeb954c8d90e69ed8090bdb92",
      "cf4cd9e9a64f4e0c993de5956bd3dfab",
      "2fa5f6f6c6a44e468d8c90df5f6b1510"
     ]
    },
    "executionInfo": {
     "elapsed": 40778,
     "status": "ok",
     "timestamp": 1619328790824,
     "user": {
      "displayName": "Mahir Patel",
      "photoUrl": "",
      "userId": "16954459501034840582"
     },
     "user_tz": 240
    },
    "id": "oXnlpsYi4Cw7",
    "outputId": "f24a0103-9ded-4d4f-a1d7-4f7dea46b0b4",
    "pycharm": {
     "name": "#%%\n"
    }
   },
   "outputs": [
    {
     "name": "stderr",
     "output_type": "stream",
     "text": [
      "INFO:absl:Using /projectnb/cs505/mahirp/tfcache to cache modules.\n",
      "All model checkpoint layers were used when initializing TFGPT2LMHeadModel.\n",
      "\n",
      "All the layers of TFGPT2LMHeadModel were initialized from the model checkpoint at gpt2.\n",
      "If your task is similar to the task the model of the checkpoint was trained on, you can already use TFGPT2LMHeadModel for predictions without further training.\n"
     ]
    }
   ],
   "source": [
    "\n",
    "# embed = hub.load(\"https://tfhub.dev/google/universal-sentence-encoder-large/5\")\n",
    "embed = hub.load(\"https://tfhub.dev/google/universal-sentence-encoder/4\")\n",
    "generator = pipeline('text-generation', model='gpt2',device=0)\n",
    "tokenizer=generator.tokenizer"
   ]
  },
  {
   "cell_type": "code",
   "execution_count": 5,
   "metadata": {
    "executionInfo": {
     "elapsed": 321,
     "status": "ok",
     "timestamp": 1619332543361,
     "user": {
      "displayName": "Mahir Patel",
      "photoUrl": "",
      "userId": "16954459501034840582"
     },
     "user_tz": 240
    },
    "id": "rzWQvnEtQwls"
   },
   "outputs": [],
   "source": [
    "def generateDataset(dataset,isTest=False):\n",
    "    df = pd.DataFrame(columns=['original','headline','generated','relevant'])\n",
    "    c=0\n",
    "    gen_seq=3 if not isTest else 1\n",
    "    for original,headline,caption,relevant in zip(dataset['whole_text'],dataset['news_title'],dataset['generated_caption_of_lead_image'],dataset['V3relevance']):\n",
    "        set_seed(random.randint(1,1000))\n",
    "        print(\"{}/{}\".format(c,len(dataset)))\n",
    "        c+=1\n",
    "        text=generator(caption.lower(), max_length=min(100,len(original)), num_return_sequences=gen_seq)\n",
    "        headLineText=generator(headline.lower(),max_length=min(100,len(original)),num_return_sequences=gen_seq)\n",
    "        for t,h in zip(text,headLineText):\n",
    "          df=df.append({'original':original,'headline':h['generated_text'],'generated': t['generated_text'],'relevant':relevant},ignore_index = True)\n",
    "    return df"
   ]
  },
  {
   "cell_type": "code",
   "execution_count": 6,
   "metadata": {
    "executionInfo": {
     "elapsed": 247,
     "status": "ok",
     "timestamp": 1619332544362,
     "user": {
      "displayName": "Mahir Patel",
      "photoUrl": "",
      "userId": "16954459501034840582"
     },
     "user_tz": 240
    },
    "id": "Tl9t72_Hyj9E"
   },
   "outputs": [],
   "source": [
    "regexMap = { r\"https?://[a-zA-Z0-9./]*\": \"\", r\"@[\\w]*\": \" \", r\"#[\\w]*\": \" \",r\"\\n\":\" \",r\"\\\\\":\" \",r\"[^a-zA-Z\\s]\":\"\",r\"[\\s]+\": \" \"}\n",
    "\n",
    "\n",
    "def cleanData(text):\n",
    "    text=text.strip()\n",
    "    for regx in regexMap.keys():\n",
    "        text = re.sub(regx, regexMap[regx], text)\n",
    "    return text"
   ]
  },
  {
   "cell_type": "code",
   "execution_count": 9,
   "metadata": {
    "executionInfo": {
     "elapsed": 240,
     "status": "ok",
     "timestamp": 1619332545117,
     "user": {
      "displayName": "Mahir Patel",
      "photoUrl": "",
      "userId": "16954459501034840582"
     },
     "user_tz": 240
    },
    "id": "x-ZORhM_30Ru"
   },
   "outputs": [],
   "source": [
    "def getEmbeddings(text):\n",
    "    global useGlove\n",
    "    text=text.lower()\n",
    "    if not useGlove:\n",
    "        print('\\rusing USE',end='')\n",
    "        return embed([text]).numpy().astype(np.float)\n",
    "    else:\n",
    "        print('\\rusing GLOVE',end='')\n",
    "        embedding_matrix = np.zeros((1,512),dtype=np.float)\n",
    "        tokens=word_tokenize(text)\n",
    "        tokens=[word for word in tokens if word not in stop_words]\n",
    "        cnt=0\n",
    "        for i,word in enumerate(tokens):\n",
    "            embedding_vector = embeddings_index.get(word)\n",
    "            if embedding_vector is not None:\n",
    "                cnt+=1\n",
    "                embedding_vector = np.pad(embedding_vector, (0,212), 'constant')\n",
    "                embedding_matrix = embedding_matrix + ((embedding_vector-embedding_matrix)/cnt)\n",
    "        return embedding_matrix"
   ]
  },
  {
   "cell_type": "code",
   "execution_count": null,
   "metadata": {
    "colab": {
     "base_uri": "https://localhost:8080/"
    },
    "executionInfo": {
     "elapsed": 78763,
     "status": "ok",
     "timestamp": 1619332435786,
     "user": {
      "displayName": "Mahir Patel",
      "photoUrl": "",
      "userId": "16954459501034840582"
     },
     "user_tz": 240
    },
    "id": "2Sq-UGxjgWGN",
    "outputId": "3fe117f5-3cd8-4cdd-af9e-f8b0ee0b9cf7"
   },
   "outputs": [],
   "source": [
    "prepend=datetime.now().strftime(\"%m-%d-%Y-%H-%M-%S-\")\n",
    "# trainDF = pd.read_csv('CS505-gunviolence/04-25-2021-05-40-38-raw_train_relevanceDatasetV3.csv')\n",
    "trainDF= generateDataset(trainDataset)\n",
    "trainDF['generated']=list(map(cleanData,trainDF['generated']))\n",
    "trainDF['headline']=list(map(cleanData,trainDF['headline']))\n",
    "trainDF['original']=list(map(cleanData,trainDF['original']))\n",
    "trainDF.to_csv('CS505-gunviolence/'+prepend+'raw_train_relevanceDatasetV3.csv',index=False)\n",
    "useGlove=False\n",
    "prefix='_GLOVE_' if useGlove else '_USE_'\n",
    "trainDF['generated']=list(map(getEmbeddings,trainDF['generated']))\n",
    "print('done')\n",
    "trainDF['headline']=list(map(getEmbeddings,trainDF['headline']))\n",
    "print('done')\n",
    "trainDF['original']=list(map(getEmbeddings,trainDF['original']))\n",
    "\n",
    "trainDF.to_csv('CS505-gunviolence/'+prepend+prefix+'train_relevanceDatasetV3.csv',index=False)\n",
    "trainDF = pd.read_csv('CS505-gunviolence/'+prepend+'raw_train_relevanceDatasetV3.csv'')\n",
    "useGlove=True\n",
    "prefix='_GLOVE_' if useGlove else '_USE_'\n",
    "trainDF['generated']=list(map(getEmbeddings,trainDF['generated']))\n",
    "print('done')\n",
    "trainDF['headline']=list(map(getEmbeddings,trainDF['headline']))\n",
    "print('done')\n",
    "trainDF['original']=list(map(getEmbeddings,trainDF['original']))\n",
    "\n",
    "trainDF.to_csv('CS505-gunviolence/'+prepend+prefix+'train_relevanceDatasetV3.csv',index=False)"
   ]
  },
  {
   "cell_type": "code",
   "execution_count": null,
   "metadata": {
    "colab": {
     "base_uri": "https://localhost:8080/"
    },
    "executionInfo": {
     "elapsed": 88549,
     "status": "ok",
     "timestamp": 1619332446766,
     "user": {
      "displayName": "Mahir Patel",
      "photoUrl": "",
      "userId": "16954459501034840582"
     },
     "user_tz": 240
    },
    "id": "1G1A5Q62gWGO",
    "outputId": "a0f5d60f-bbea-4a9d-f2cf-3b665c728f99"
   },
   "outputs": [],
   "source": [
    "# testDF  = pd.read_csv('CS505-gunviolence/04-25-2021-05-40-38-raw_test_relevanceDatasetV3.csv')\n",
    "testDF=generateDataset(testDataset,True)\n",
    "testDF['generated']=list(map(cleanData,testDF['generated']))\n",
    "testDF['headline']=list(map(cleanData,testDF['headline']))\n",
    "testDF['original']=list(map(cleanData,testDF['original']))\n",
    "testDF.to_csv('CS505-gunviolence/'+prepend+'raw_test_relevanceDatasetV3.csv',index=False)\n",
    "useGlove=False\n",
    "prefix='_GLOVE_' if useGlove else '_USE_'\n",
    "testDF['generated']=list(map(getEmbeddings,testDF['generated']))\n",
    "print('done')\n",
    "testDF['headline']=list(map(getEmbeddings,testDF['headline']))\n",
    "print('done')\n",
    "testDF['original']=list(map(getEmbeddings,testDF['original']))\n",
    "testDF.to_csv('CS505-gunviolence/'+prepend+prefix+'test_relevanceDatasetV3.csv',index=False)\n",
    "testDF  = pd.read_csv('CS505-gunviolence/'+prepend+'raw_test_relevanceDatasetV3.csv')\n",
    "useGlove=True\n",
    "prefix='_GLOVE_' if useGlove else '_USE_'\n",
    "testDF['generated']=list(map(getEmbeddings,testDF['generated']))\n",
    "print('done')\n",
    "testDF['headline']=list(map(getEmbeddings,testDF['headline']))\n",
    "print('done')\n",
    "testDF['original']=list(map(getEmbeddings,testDF['original']))\n",
    "testDF.to_csv('CS505-gunviolence/'+prepend+prefix+'test_relevanceDatasetV3.csv',index=False)"
   ]
  },
  {
   "cell_type": "code",
   "execution_count": 79,
   "metadata": {
    "executionInfo": {
     "elapsed": 226,
     "status": "ok",
     "timestamp": 1619332550844,
     "user": {
      "displayName": "Mahir Patel",
      "photoUrl": "",
      "userId": "16954459501034840582"
     },
     "user_tz": 240
    },
    "id": "iRzSJpqh0_Rj"
   },
   "outputs": [],
   "source": [
    "def getEnsembleModel(embeddingDims=512):\n",
    "    inp=tf.keras.Input(shape=(3,embeddingDims),name='embeddings')\n",
    "    inp2=tf.keras.Input(shape=(3,embeddingDims),name='glove_embeddings')\n",
    "    x=tf.keras.layers.Dense(256,activation='relu',kernel_regularizer=tf.keras.regularizers.l2(l2=8e-6),name='features01')(inp)\n",
    "    x=tf.keras.layers.Flatten()(x)\n",
    "    x=tf.keras.layers.Dense(64,activation='relu',kernel_regularizer=tf.keras.regularizers.l2(l2=8e-5),name='features')(x)\n",
    "    x=tf.keras.layers.Dense(2,activation='softmax')(x)\n",
    "    \n",
    "    y=tf.keras.layers.Dense(256,activation='relu',name='features02',kernel_regularizer=tf.keras.regularizers.l2(l2=8e-6))(inp2)\n",
    "    y=tf.keras.layers.Flatten()(y)\n",
    "    y=tf.keras.layers.Dense(64,activation='relu',kernel_regularizer=tf.keras.regularizers.l2(l2=8e-5),name='features2')(y)\n",
    "    y=tf.keras.layers.Dense(2,activation='softmax')(y)\n",
    "    z=tf.keras.layers.Average()([x, y])\n",
    "    return tf.keras.Model([inp, inp2],z)\n",
    "\n",
    "def getModel(embeddingDims=512,isGlove=False):\n",
    "    if not isGlove:\n",
    "        inp=tf.keras.Input(shape=(3,embeddingDims),name='embeddings')\n",
    "    else:\n",
    "        inp=tf.keras.Input(shape=(3,embeddingDims),name='glove_embeddings')\n",
    "        \n",
    "    x=tf.keras.layers.Dense(256,activation='relu',kernel_regularizer=tf.keras.regularizers.l2(l2=2e-6),name='features0')(inp)\n",
    "    x=tf.keras.layers.Flatten()(x)\n",
    "    x=tf.keras.layers.Dense(64,activation='relu',kernel_regularizer=tf.keras.regularizers.l2(l2=8e-5),name='features')(x)\n",
    "    x=tf.keras.layers.Dense(2,activation='softmax')(x)\n",
    "    return tf.keras.Model(inp,x)\n",
    "    \n",
    "def getAutoEncoder():\n",
    "    inp = tf.keras.Input(shape=(512))\n",
    "    x=tf.keras.layers.Flatten()(inp)\n",
    "    x=tf.keras.layers.Dense(128)(x)\n",
    "    x=tf.keras.layers.Dense(512)(x)\n",
    "    return tf.keras.Model(inp,x)\n",
    "    "
   ]
  },
  {
   "cell_type": "code",
   "execution_count": 113,
   "metadata": {
    "colab": {
     "base_uri": "https://localhost:8080/"
    },
    "executionInfo": {
     "elapsed": 484,
     "status": "ok",
     "timestamp": 1619332552095,
     "user": {
      "displayName": "Mahir Patel",
      "photoUrl": "",
      "userId": "16954459501034840582"
     },
     "user_tz": 240
    },
    "id": "DlE-hSRm2pce",
    "outputId": "892da322-1d63-4656-aac0-64468f19594b"
   },
   "outputs": [],
   "source": [
    "model=getModel()\n",
    "gloveModel=getModel(isGlove=True)\n",
    "ensembleModel=getEnsembleModel()"
   ]
  },
  {
   "cell_type": "code",
   "execution_count": 105,
   "metadata": {},
   "outputs": [
    {
     "name": "stdout",
     "output_type": "stream",
     "text": [
      "Model: \"functional_55\"\n",
      "_________________________________________________________________\n",
      "Layer (type)                 Output Shape              Param #   \n",
      "=================================================================\n",
      "embeddings (InputLayer)      [(None, 3, 512)]          0         \n",
      "_________________________________________________________________\n",
      "features0 (Dense)            (None, 3, 256)            131328    \n",
      "_________________________________________________________________\n",
      "flatten_36 (Flatten)         (None, 768)               0         \n",
      "_________________________________________________________________\n",
      "features (Dense)             (None, 64)                49216     \n",
      "_________________________________________________________________\n",
      "dense_36 (Dense)             (None, 2)                 130       \n",
      "=================================================================\n",
      "Total params: 180,674\n",
      "Trainable params: 180,674\n",
      "Non-trainable params: 0\n",
      "_________________________________________________________________\n",
      "Model: \"functional_57\"\n",
      "_________________________________________________________________\n",
      "Layer (type)                 Output Shape              Param #   \n",
      "=================================================================\n",
      "glove_embeddings (InputLayer [(None, 3, 512)]          0         \n",
      "_________________________________________________________________\n",
      "features0 (Dense)            (None, 3, 256)            131328    \n",
      "_________________________________________________________________\n",
      "flatten_37 (Flatten)         (None, 768)               0         \n",
      "_________________________________________________________________\n",
      "features (Dense)             (None, 64)                49216     \n",
      "_________________________________________________________________\n",
      "dense_37 (Dense)             (None, 2)                 130       \n",
      "=================================================================\n",
      "Total params: 180,674\n",
      "Trainable params: 180,674\n",
      "Non-trainable params: 0\n",
      "_________________________________________________________________\n",
      "Model: \"functional_59\"\n",
      "__________________________________________________________________________________________________\n",
      "Layer (type)                    Output Shape         Param #     Connected to                     \n",
      "==================================================================================================\n",
      "embeddings (InputLayer)         [(None, 3, 512)]     0                                            \n",
      "__________________________________________________________________________________________________\n",
      "glove_embeddings (InputLayer)   [(None, 3, 512)]     0                                            \n",
      "__________________________________________________________________________________________________\n",
      "features01 (Dense)              (None, 3, 256)       131328      embeddings[0][0]                 \n",
      "__________________________________________________________________________________________________\n",
      "features02 (Dense)              (None, 3, 256)       131328      glove_embeddings[0][0]           \n",
      "__________________________________________________________________________________________________\n",
      "flatten_38 (Flatten)            (None, 768)          0           features01[0][0]                 \n",
      "__________________________________________________________________________________________________\n",
      "flatten_39 (Flatten)            (None, 768)          0           features02[0][0]                 \n",
      "__________________________________________________________________________________________________\n",
      "features (Dense)                (None, 64)           49216       flatten_38[0][0]                 \n",
      "__________________________________________________________________________________________________\n",
      "features2 (Dense)               (None, 64)           49216       flatten_39[0][0]                 \n",
      "__________________________________________________________________________________________________\n",
      "dense_38 (Dense)                (None, 2)            130         features[0][0]                   \n",
      "__________________________________________________________________________________________________\n",
      "dense_39 (Dense)                (None, 2)            130         features2[0][0]                  \n",
      "__________________________________________________________________________________________________\n",
      "average_9 (Average)             (None, 2)            0           dense_38[0][0]                   \n",
      "                                                                 dense_39[0][0]                   \n",
      "==================================================================================================\n",
      "Total params: 361,348\n",
      "Trainable params: 361,348\n",
      "Non-trainable params: 0\n",
      "__________________________________________________________________________________________________\n"
     ]
    }
   ],
   "source": [
    "model.summary()\n",
    "gloveModel.summary()\n",
    "ensembleModel.summary()"
   ]
  },
  {
   "cell_type": "code",
   "execution_count": 19,
   "metadata": {
    "executionInfo": {
     "elapsed": 2066,
     "status": "ok",
     "timestamp": 1619332555796,
     "user": {
      "displayName": "Mahir Patel",
      "photoUrl": "",
      "userId": "16954459501034840582"
     },
     "user_tz": 240
    },
    "id": "GlkeMGhW496x"
   },
   "outputs": [],
   "source": [
    "# df=pd.read_csv('CS505-gunviolence/'+prepend+'train_relevanceDatasetV3.csv')\n",
    "# df = pd.read_csv('CS505-gunviolence/04-19-2021-04-43-45-train_relevanceDatasetV3.csv')\n",
    "df = pd.read_csv('CS505-gunviolence/04-25-2021-04-41-28-_USE_train_relevanceDatasetV3.csv')\n",
    "df2 = pd.read_csv('CS505-gunviolence/04-25-2021-04-41-28-_GLOVE_train_relevanceDatasetV3.csv')\n",
    "labels=df.pop('relevant')"
   ]
  },
  {
   "cell_type": "code",
   "execution_count": 20,
   "metadata": {
    "executionInfo": {
     "elapsed": 232,
     "status": "ok",
     "timestamp": 1619332560784,
     "user": {
      "displayName": "Mahir Patel",
      "photoUrl": "",
      "userId": "16954459501034840582"
     },
     "user_tz": 240
    },
    "id": "l1wVA9oR6grv"
   },
   "outputs": [],
   "source": [
    "regexMap = { r\"\\n\":\" \",r\"[\\s]+\": \",\",r\"\\[,\":\"[\"}\n"
   ]
  },
  {
   "cell_type": "code",
   "execution_count": 119,
   "metadata": {
    "executionInfo": {
     "elapsed": 12886,
     "status": "ok",
     "timestamp": 1619332574350,
     "user": {
      "displayName": "Mahir Patel",
      "photoUrl": "",
      "userId": "16954459501034840582"
     },
     "user_tz": 240
    },
    "id": "BjC2N0Qm96g8"
   },
   "outputs": [],
   "source": [
    "def generateNPDataset(dataframe):\n",
    "    features=[]\n",
    "    for index,data in dataframe.iterrows():\n",
    "        c1=np.array(eval(cleanData(data['headline'])),dtype=np.float)\n",
    "        c2=np.array(eval(cleanData(data['generated'])),dtype=np.float)\n",
    "        c3=np.array(eval(cleanData(data['original'])),dtype=np.float)\n",
    "#         features.append(c1.T@((c2+c3)/2))\n",
    "        features.append(np.vstack((c1,c2,c3)))\n",
    "    features=np.array(features,dtype=np.float)\n",
    "    return features"
   ]
  },
  {
   "cell_type": "code",
   "execution_count": 22,
   "metadata": {},
   "outputs": [],
   "source": [
    "features=generateNPDataset(df)"
   ]
  },
  {
   "cell_type": "code",
   "execution_count": 23,
   "metadata": {
    "executionInfo": {
     "elapsed": 17372,
     "status": "ok",
     "timestamp": 1619332580736,
     "user": {
      "displayName": "Mahir Patel",
      "photoUrl": "",
      "userId": "16954459501034840582"
     },
     "user_tz": 240
    },
    "id": "ETxXTXT9BfgW"
   },
   "outputs": [],
   "source": [
    "\n",
    "glove_features=generateNPDataset(df2)"
   ]
  },
  {
   "cell_type": "code",
   "execution_count": 24,
   "metadata": {
    "colab": {
     "base_uri": "https://localhost:8080/"
    },
    "executionInfo": {
     "elapsed": 16563,
     "status": "ok",
     "timestamp": 1619332580866,
     "user": {
      "displayName": "Mahir Patel",
      "photoUrl": "",
      "userId": "16954459501034840582"
     },
     "user_tz": 240
    },
    "id": "llgaB_YAMnme",
    "outputId": "f5d383de-d9c3-4ae3-cafd-e87496307f63"
   },
   "outputs": [
    {
     "name": "stdout",
     "output_type": "stream",
     "text": [
      "(2730, 3, 512)\n",
      "(2730, 3, 512)\n"
     ]
    }
   ],
   "source": [
    "print(features.shape)\n",
    "print(glove_features.shape)"
   ]
  },
  {
   "cell_type": "code",
   "execution_count": 49,
   "metadata": {
    "executionInfo": {
     "elapsed": 15591,
     "status": "ok",
     "timestamp": 1619332581334,
     "user": {
      "displayName": "Mahir Patel",
      "photoUrl": "",
      "userId": "16954459501034840582"
     },
     "user_tz": 240
    },
    "id": "KosL8qJ_6rPF"
   },
   "outputs": [],
   "source": [
    "dataset = tf.data.Dataset.from_tensor_slices(({'embeddings':features,'glove_embeddings':glove_features}, tf.keras.utils.to_categorical(labels)))\n"
   ]
  },
  {
   "cell_type": "code",
   "execution_count": 50,
   "metadata": {
    "colab": {
     "base_uri": "https://localhost:8080/"
    },
    "executionInfo": {
     "elapsed": 14919,
     "status": "ok",
     "timestamp": 1619332581335,
     "user": {
      "displayName": "Mahir Patel",
      "photoUrl": "",
      "userId": "16954459501034840582"
     },
     "user_tz": 240
    },
    "id": "SyNwn6an8Sgm",
    "outputId": "02bf903d-3f00-45bf-fd56-1ce8c64d9034"
   },
   "outputs": [
    {
     "name": "stdout",
     "output_type": "stream",
     "text": [
      "31\n",
      "128\n",
      "12\n"
     ]
    }
   ],
   "source": [
    "l=len(dataset)\n",
    "dataset=dataset.shuffle(l+1).batch(16)\n",
    "l=len(dataset)\n",
    "train_set=dataset.take(int(l*0.75))\n",
    "test_set=dataset.skip(int(l*0.75))\n",
    "val_set=test_set.take(int(l*0.75*0.10))\n",
    "test_set=test_set.skip(int(l*0.75*0.10))\n",
    "print(len(test_set))\n",
    "print(len(train_set))\n",
    "print(len(val_set))"
   ]
  },
  {
   "cell_type": "code",
   "execution_count": null,
   "metadata": {
    "colab": {
     "base_uri": "https://localhost:8080/"
    },
    "id": "04lXFMOa9Kap",
    "outputId": "05c1dad8-96ae-418d-f942-f2bf911a573e"
   },
   "outputs": [],
   "source": [
    "model.compile(optimizer=tf.keras.optimizers.Adam(lr=5e-5),\n",
    "              loss=tf.keras.losses.CategoricalCrossentropy(from_logits=True),\n",
    "              metrics=['accuracy'])\n",
    "gloveModel.compile(optimizer=tf.keras.optimizers.Adam(lr=5e-5),\n",
    "              loss=tf.keras.losses.CategoricalCrossentropy(from_logits=True),\n",
    "              metrics=['accuracy'])\n",
    "ensembleModel.compile(optimizer=tf.keras.optimizers.Adam(lr=5e-5),\n",
    "              loss=tf.keras.losses.CategoricalCrossentropy(from_logits=True),\n",
    "              metrics=['accuracy'])\n",
    "history=model.fit(train_set,validation_data=val_set,epochs=8,shuffle=True)\n",
    "history=ensembleModel.fit(train_set,validation_data=val_set,epochs=10,shuffle=True)\n",
    "history=gloveModel.fit(train_set,validation_data=val_set,epochs=7,shuffle=True)"
   ]
  },
  {
   "cell_type": "code",
   "execution_count": 107,
   "metadata": {
    "colab": {
     "base_uri": "https://localhost:8080/"
    },
    "executionInfo": {
     "elapsed": 9142,
     "status": "ok",
     "timestamp": 1618793239315,
     "user": {
      "displayName": "Mahir Patel",
      "photoUrl": "",
      "userId": "16954459501034840582"
     },
     "user_tz": 240
    },
    "id": "49cNWFQjE1nR",
    "outputId": "f9f0222d-ee3e-4378-f402-eacb1da65023"
   },
   "outputs": [
    {
     "name": "stdout",
     "output_type": "stream",
     "text": [
      "31/31 [==============================] - 0s 1ms/step - loss: 0.6212 - accuracy: 0.7286\n",
      "31/31 [==============================] - 0s 1ms/step - loss: 0.6629 - accuracy: 0.6429\n",
      "31/31 [==============================] - 0s 1ms/step - loss: 0.6507 - accuracy: 0.6837\n"
     ]
    },
    {
     "data": {
      "text/plain": [
       "[0.6507479548454285, 0.6836734414100647]"
      ]
     },
     "execution_count": 107,
     "metadata": {},
     "output_type": "execute_result"
    }
   ],
   "source": [
    "model.evaluate(test_set)\n",
    "gloveModel.evaluate(test_set)\n",
    "ensembleModel.evaluate(test_set)"
   ]
  },
  {
   "cell_type": "code",
   "execution_count": 118,
   "metadata": {
    "id": "-FJzla8REUwg"
   },
   "outputs": [],
   "source": [
    "model.save(prepend+'final_USE.h5')\n",
    "gloveModel.save(prepend+'final_GLOVE.h5')\n",
    "ensembleModel.save(prepend+'final_ENSEMBLE.h5')"
   ]
  },
  {
   "cell_type": "code",
   "execution_count": 29,
   "metadata": {
    "id": "efgSc7weWxH3"
   },
   "outputs": [],
   "source": [
    "results={}\n",
    "sampleCount=0\n",
    "testDF = pd.read_csv('CS505-gunviolence/04-25-2021-04-41-28-_USE_test_relevanceDatasetV3.csv')\n",
    "testDF2= pd.read_csv('CS505-gunviolence/04-25-2021-04-41-28-_GLOVE_test_relevanceDatasetV3.csv')\n",
    "tfeatures=[]\n",
    "tlabels=tf.keras.utils.to_categorical(testDF.pop('relevant'))\n",
    "tfeatures=generateNPDataset(testDF)\n",
    "tfeatures_glove=generateNPDataset(testDF2)"
   ]
  },
  {
   "cell_type": "code",
   "execution_count": 30,
   "metadata": {
    "colab": {
     "base_uri": "https://localhost:8080/",
     "height": 1000
    },
    "executionInfo": {
     "elapsed": 77258,
     "status": "error",
     "timestamp": 1618793322884,
     "user": {
      "displayName": "Mahir Patel",
      "photoUrl": "",
      "userId": "16954459501034840582"
     },
     "user_tz": 240
    },
    "id": "8LMN_mpcFc-X",
    "outputId": "8f4cc70f-9320-4621-8bb6-bbffcaa73ef7"
   },
   "outputs": [
    {
     "name": "stdout",
     "output_type": "stream",
     "text": [
      "(390, 3, 512)\n"
     ]
    }
   ],
   "source": [
    "print(tfeatures.shape)\n",
    "test_dataset = tf.data.Dataset.from_tensor_slices(({'embeddings':tfeatures,'glove_embeddings':tfeatures_glove}, tlabels)).batch(32)"
   ]
  },
  {
   "cell_type": "code",
   "execution_count": 122,
   "metadata": {
    "colab": {
     "base_uri": "https://localhost:8080/"
    },
    "executionInfo": {
     "elapsed": 859,
     "status": "ok",
     "timestamp": 1618793327301,
     "user": {
      "displayName": "Mahir Patel",
      "photoUrl": "",
      "userId": "16954459501034840582"
     },
     "user_tz": 240
    },
    "id": "f1JKDn9YXECg",
    "outputId": "39a81f88-9c56-4989-abeb-b0a545fa305a"
   },
   "outputs": [
    {
     "name": "stdout",
     "output_type": "stream",
     "text": [
      "13/13 [==============================] - 0s 1ms/step - loss: 0.6641 - accuracy: 0.6462\n",
      "13/13 [==============================] - 0s 1ms/step - loss: 0.6707 - accuracy: 0.6051\n",
      "13/13 [==============================] - 0s 2ms/step - loss: 0.6662 - accuracy: 0.6385\n"
     ]
    },
    {
     "data": {
      "text/plain": [
       "[0.666168212890625, 0.6384615302085876]"
      ]
     },
     "execution_count": 122,
     "metadata": {},
     "output_type": "execute_result"
    }
   ],
   "source": [
    "# test_input=np.array(test_input,dtype=np.float)\n",
    "# test_label=np.array(test_label)\n",
    "model.evaluate(test_dataset)\n",
    "gloveModel.evaluate(test_dataset)\n",
    "ensembleModel.evaluate(test_dataset)\n"
   ]
  },
  {
   "cell_type": "code",
   "execution_count": 120,
   "metadata": {
    "id": "J8rMqFBwgWGT",
    "outputId": "aeb384d1-85ea-42aa-c7c8-8a7eb8c9c301"
   },
   "outputs": [],
   "source": [
    "from sklearn.manifold import TSNE\n",
    "def getIntermediate(model,layers):\n",
    "    x=None\n",
    "    for layer in layers:\n",
    "        if x is None:\n",
    "            x=model.get_layer(layer).output\n",
    "        else:\n",
    "            x=model.get_layer(layer)(x)\n",
    "    return tf.keras.models.Model(inputs=model.input,outputs=x)\n",
    "\n",
    "def getTSNEData(model,listOfLayers):\n",
    "    intermediate_layer_model = getIntermediate(model,listOfLayers)\n",
    "    predict = intermediate_layer_model.predict(test_dataset)\n",
    "    tsne = TSNE(n_components=2, verbose=1, random_state=42,n_jobs=16,method='exact')\n",
    "    return tsne.fit_transform(predict)\n",
    "    "
   ]
  },
  {
   "cell_type": "code",
   "execution_count": 128,
   "metadata": {
    "id": "RQ1fedAlgWGU",
    "outputId": "8ee35928-cc82-4cd6-fb8c-f834757b181f"
   },
   "outputs": [],
   "source": [
    "import matplotlib.pyplot as plt\n",
    "%matplotlib inline\n",
    "def plotTSNE(model,listOfLayers=['features']):\n",
    "    z=getTSNEData(model,listOfLayers)\n",
    "    classes = [1,0]\n",
    "    label=['Relevant','Not Relevant']\n",
    "    tsnedataset={}\n",
    "    for c in classes:\n",
    "        tsnedataset[c]=np.where(tlabels[:,0]==c)\n",
    "    colors=['#e76f51','#2a9d8f','#1d3557','#a8dadc']\n",
    "    for c in classes:\n",
    "        plt.scatter(z[tsnedataset[c],0],z[tsnedataset[c],1],c=colors[c],label=label[c])\n",
    "    plt.legend(loc='best')\n",
    "    plt.title(model.name)\n",
    "    plt.show()"
   ]
  },
  {
   "cell_type": "code",
   "execution_count": 132,
   "metadata": {
    "id": "Bu4BzLItgWGU"
   },
   "outputs": [
    {
     "name": "stderr",
     "output_type": "stream",
     "text": [
      "/share/pkg.7/tensorflow/2.3.1/install/lib/SCC/../python3.7/site-packages/tensorflow/python/keras/engine/functional.py:543: UserWarning: Input dict contained keys ['glove_embeddings'] which did not match any model input. They will be ignored by the model.\n",
      "  [n for n in tensors.keys() if n not in ref_input_names])\n"
     ]
    },
    {
     "name": "stdout",
     "output_type": "stream",
     "text": [
      "[t-SNE] Computing pairwise distances...\n",
      "[t-SNE] Computed conditional probabilities for sample 390 / 390\n",
      "[t-SNE] Mean sigma: 0.141848\n",
      "[t-SNE] KL divergence after 250 iterations with early exaggeration: 64.503215\n",
      "[t-SNE] KL divergence after 1000 iterations: 0.807066\n"
     ]
    },
    {
     "data": {
      "image/png": "[encoded data removed]",
      "text/plain": [
       "<Figure size 432x288 with 1 Axes>"
      ]
     },
     "metadata": {
      "needs_background": "light"
     },
     "output_type": "display_data"
    }
   ],
   "source": [
    "model._name='USE_Based'\n",
    "plotTSNE(model)"
   ]
  },
  {
   "cell_type": "code",
   "execution_count": 133,
   "metadata": {},
   "outputs": [
    {
     "name": "stderr",
     "output_type": "stream",
     "text": [
      "/share/pkg.7/tensorflow/2.3.1/install/lib/SCC/../python3.7/site-packages/tensorflow/python/keras/engine/functional.py:543: UserWarning: Input dict contained keys ['embeddings'] which did not match any model input. They will be ignored by the model.\n",
      "  [n for n in tensors.keys() if n not in ref_input_names])\n"
     ]
    },
    {
     "name": "stdout",
     "output_type": "stream",
     "text": [
      "[t-SNE] Computing pairwise distances...\n",
      "[t-SNE] Computed conditional probabilities for sample 390 / 390\n",
      "[t-SNE] Mean sigma: 0.179231\n",
      "[t-SNE] KL divergence after 250 iterations with early exaggeration: 71.086230\n",
      "[t-SNE] KL divergence after 1000 iterations: 0.913512\n"
     ]
    },
    {
     "data": {
      "image/png": "[encoded data removed]",
      "text/plain": [
       "<Figure size 432x288 with 1 Axes>"
      ]
     },
     "metadata": {
      "needs_background": "light"
     },
     "output_type": "display_data"
    }
   ],
   "source": [
    "gloveModel._name='GLOVE_Based'\n",
    "plotTSNE(gloveModel)"
   ]
  },
  {
   "cell_type": "code",
   "execution_count": 134,
   "metadata": {},
   "outputs": [
    {
     "name": "stdout",
     "output_type": "stream",
     "text": [
      "[t-SNE] Computing pairwise distances...\n",
      "[t-SNE] Computed conditional probabilities for sample 390 / 390\n",
      "[t-SNE] Mean sigma: 0.160090\n",
      "[t-SNE] KL divergence after 250 iterations with early exaggeration: 64.408855\n",
      "[t-SNE] KL divergence after 1000 iterations: 0.698121\n"
     ]
    },
    {
     "data": {
      "image/png": "[encoded data removed]",
      "text/plain": [
       "<Figure size 432x288 with 1 Axes>"
      ]
     },
     "metadata": {
      "needs_background": "light"
     },
     "output_type": "display_data"
    },
    {
     "name": "stdout",
     "output_type": "stream",
     "text": [
      "[t-SNE] Computing pairwise distances...\n",
      "[t-SNE] Computed conditional probabilities for sample 390 / 390\n",
      "[t-SNE] Mean sigma: 0.195384\n",
      "[t-SNE] KL divergence after 250 iterations with early exaggeration: 66.365957\n",
      "[t-SNE] KL divergence after 1000 iterations: 0.926434\n"
     ]
    },
    {
     "data": {
      "image/png": "[encoded data removed]",
      "text/plain": [
       "<Figure size 432x288 with 1 Axes>"
      ]
     },
     "metadata": {
      "needs_background": "light"
     },
     "output_type": "display_data"
    }
   ],
   "source": [
    "ensembleModel._name='USE Based'\n",
    "plotTSNE(ensembleModel)\n",
    "ensembleModel._name='GLOVE Based'\n",
    "plotTSNE(ensembleModel,['features2'])"
   ]
  }
 ],
 "metadata": {
  "accelerator": "GPU",
  "colab": {
   "collapsed_sections": [],
   "name": "RelevanceDetector.ipynb",
   "provenance": []
  },
  "kernelspec": {
   "display_name": "Python 3",
   "language": "python",
   "name": "python3"
  },
  "language_info": {
   "codemirror_mode": {
    "name": "ipython",
    "version": 3
   },
   "file_extension": ".py",
   "mimetype": "text/x-python",
   "name": "python",
   "nbconvert_exporter": "python",
   "pygments_lexer": "ipython3",
   "version": "3.7.9"
  },
  "widgets": {
   "application/vnd.jupyter.widget-state+json": {
    "059ad02d19454696b629638ce8b0f57d": {
     "model_module": "@jupyter-widgets/base",
     "model_name": "LayoutModel",
     "state": {
      "_model_module": "@jupyter-widgets/base",
      "_model_module_version": "1.2.0",
      "_model_name": "LayoutModel",
      "_view_count": null,
      "_view_module": "@jupyter-widgets/base",
      "_view_module_version": "1.2.0",
      "_view_name": "LayoutView",
      "align_content": null,
      "align_items": null,
      "align_self": null,
      "border": null,
      "bottom": null,
      "display": null,
      "flex": null,
      "flex_flow": null,
      "grid_area": null,
      "grid_auto_columns": null,
      "grid_auto_flow": null,
      "grid_auto_rows": null,
      "grid_column": null,
      "grid_gap": null,
      "grid_row": null,
      "grid_template_areas": null,
      "grid_template_columns": null,
      "grid_template_rows": null,
      "height": null,
      "justify_content": null,
      "justify_items": null,
      "left": null,
      "margin": null,
      "max_height": null,
      "max_width": null,
      "min_height": null,
      "min_width": null,
      "object_fit": null,
      "object_position": null,
      "order": null,
      "overflow": null,
      "overflow_x": null,
      "overflow_y": null,
      "padding": null,
      "right": null,
      "top": null,
      "visibility": null,
      "width": null
     }
    },
    "0bb85615efb54c9d8a10208acec99f4e": {
     "model_module": "@jupyter-widgets/controls",
     "model_name": "DescriptionStyleModel",
     "state": {
      "_model_module": "@jupyter-widgets/controls",
      "_model_module_version": "1.5.0",
      "_model_name": "DescriptionStyleModel",
      "_view_count": null,
      "_view_module": "@jupyter-widgets/base",
      "_view_module_version": "1.2.0",
      "_view_name": "StyleView",
      "description_width": ""
     }
    },
    "0f46e3d5988c42ee92ac6e8fae262014": {
     "model_module": "@jupyter-widgets/controls",
     "model_name": "HTMLModel",
     "state": {
      "_dom_classes": [],
      "_model_module": "@jupyter-widgets/controls",
      "_model_module_version": "1.5.0",
      "_model_name": "HTMLModel",
      "_view_count": null,
      "_view_module": "@jupyter-widgets/controls",
      "_view_module_version": "1.5.0",
      "_view_name": "HTMLView",
      "description": "",
      "description_tooltip": null,
      "layout": "IPY_MODEL_8b9a2b18199748ada11f4d759a18dc34",
      "placeholder": "​",
      "style": "IPY_MODEL_3a9cb28800d5473f89f6d9c01d6bbafd",
      "value": " 548M/548M [00:10&lt;00:00, 52.5MB/s]"
     }
    },
    "184048e306a5468a95c887422bf9ac84": {
     "model_module": "@jupyter-widgets/base",
     "model_name": "LayoutModel",
     "state": {
      "_model_module": "@jupyter-widgets/base",
      "_model_module_version": "1.2.0",
      "_model_name": "LayoutModel",
      "_view_count": null,
      "_view_module": "@jupyter-widgets/base",
      "_view_module_version": "1.2.0",
      "_view_name": "LayoutView",
      "align_content": null,
      "align_items": null,
      "align_self": null,
      "border": null,
      "bottom": null,
      "display": null,
      "flex": null,
      "flex_flow": null,
      "grid_area": null,
      "grid_auto_columns": null,
      "grid_auto_flow": null,
      "grid_auto_rows": null,
      "grid_column": null,
      "grid_gap": null,
      "grid_row": null,
      "grid_template_areas": null,
      "grid_template_columns": null,
      "grid_template_rows": null,
      "height": null,
      "justify_content": null,
      "justify_items": null,
      "left": null,
      "margin": null,
      "max_height": null,
      "max_width": null,
      "min_height": null,
      "min_width": null,
      "object_fit": null,
      "object_position": null,
      "order": null,
      "overflow": null,
      "overflow_x": null,
      "overflow_y": null,
      "padding": null,
      "right": null,
      "top": null,
      "visibility": null,
      "width": null
     }
    },
    "1b8fd963e1a7459aa9154873b448acc4": {
     "model_module": "@jupyter-widgets/controls",
     "model_name": "ProgressStyleModel",
     "state": {
      "_model_module": "@jupyter-widgets/controls",
      "_model_module_version": "1.5.0",
      "_model_name": "ProgressStyleModel",
      "_view_count": null,
      "_view_module": "@jupyter-widgets/base",
      "_view_module_version": "1.2.0",
      "_view_name": "StyleView",
      "bar_color": null,
      "description_width": "initial"
     }
    },
    "272bf44ffe1e432a9bc3d0166d6d349e": {
     "model_module": "@jupyter-widgets/controls",
     "model_name": "HBoxModel",
     "state": {
      "_dom_classes": [],
      "_model_module": "@jupyter-widgets/controls",
      "_model_module_version": "1.5.0",
      "_model_name": "HBoxModel",
      "_view_count": null,
      "_view_module": "@jupyter-widgets/controls",
      "_view_module_version": "1.5.0",
      "_view_name": "HBoxView",
      "box_style": "",
      "children": [
       "IPY_MODEL_b9f4f4387cd7456f80aeadf9033895d4",
       "IPY_MODEL_0f46e3d5988c42ee92ac6e8fae262014"
      ],
      "layout": "IPY_MODEL_f262dabb420448d7a3733c9e2b56bda7"
     }
    },
    "2f263aa8ce304449874f5fe5a6b49049": {
     "model_module": "@jupyter-widgets/controls",
     "model_name": "HTMLModel",
     "state": {
      "_dom_classes": [],
      "_model_module": "@jupyter-widgets/controls",
      "_model_module_version": "1.5.0",
      "_model_name": "HTMLModel",
      "_view_count": null,
      "_view_module": "@jupyter-widgets/controls",
      "_view_module_version": "1.5.0",
      "_view_name": "HTMLView",
      "description": "",
      "description_tooltip": null,
      "layout": "IPY_MODEL_54b224563816481b8e4bda2d1352c1ac",
      "placeholder": "​",
      "style": "IPY_MODEL_d74eb6937bb148b1bbbbe90e7cb1cd6d",
      "value": " 665/665 [00:00&lt;00:00, 3.85kB/s]"
     }
    },
    "2fa5f6f6c6a44e468d8c90df5f6b1510": {
     "model_module": "@jupyter-widgets/base",
     "model_name": "LayoutModel",
     "state": {
      "_model_module": "@jupyter-widgets/base",
      "_model_module_version": "1.2.0",
      "_model_name": "LayoutModel",
      "_view_count": null,
      "_view_module": "@jupyter-widgets/base",
      "_view_module_version": "1.2.0",
      "_view_name": "LayoutView",
      "align_content": null,
      "align_items": null,
      "align_self": null,
      "border": null,
      "bottom": null,
      "display": null,
      "flex": null,
      "flex_flow": null,
      "grid_area": null,
      "grid_auto_columns": null,
      "grid_auto_flow": null,
      "grid_auto_rows": null,
      "grid_column": null,
      "grid_gap": null,
      "grid_row": null,
      "grid_template_areas": null,
      "grid_template_columns": null,
      "grid_template_rows": null,
      "height": null,
      "justify_content": null,
      "justify_items": null,
      "left": null,
      "margin": null,
      "max_height": null,
      "max_width": null,
      "min_height": null,
      "min_width": null,
      "object_fit": null,
      "object_position": null,
      "order": null,
      "overflow": null,
      "overflow_x": null,
      "overflow_y": null,
      "padding": null,
      "right": null,
      "top": null,
      "visibility": null,
      "width": null
     }
    },
    "322cb9faf780431a9b4e873a5705c2f5": {
     "model_module": "@jupyter-widgets/controls",
     "model_name": "HTMLModel",
     "state": {
      "_dom_classes": [],
      "_model_module": "@jupyter-widgets/controls",
      "_model_module_version": "1.5.0",
      "_model_name": "HTMLModel",
      "_view_count": null,
      "_view_module": "@jupyter-widgets/controls",
      "_view_module_version": "1.5.0",
      "_view_name": "HTMLView",
      "description": "",
      "description_tooltip": null,
      "layout": "IPY_MODEL_2fa5f6f6c6a44e468d8c90df5f6b1510",
      "placeholder": "​",
      "style": "IPY_MODEL_cf4cd9e9a64f4e0c993de5956bd3dfab",
      "value": " 1.36M/1.36M [00:11&lt;00:00, 122kB/s]"
     }
    },
    "3285e5a93a7e456d9ae81e1b6aa98bd3": {
     "model_module": "@jupyter-widgets/controls",
     "model_name": "FloatProgressModel",
     "state": {
      "_dom_classes": [],
      "_model_module": "@jupyter-widgets/controls",
      "_model_module_version": "1.5.0",
      "_model_name": "FloatProgressModel",
      "_view_count": null,
      "_view_module": "@jupyter-widgets/controls",
      "_view_module_version": "1.5.0",
      "_view_name": "ProgressView",
      "bar_style": "success",
      "description": "Downloading: 100%",
      "description_tooltip": null,
      "layout": "IPY_MODEL_d91ebf9eeb954c8d90e69ed8090bdb92",
      "max": 1355256,
      "min": 0,
      "orientation": "horizontal",
      "style": "IPY_MODEL_ae62783d213444c9af2bf71b10b51e98",
      "value": 1355256
     }
    },
    "3a9cb28800d5473f89f6d9c01d6bbafd": {
     "model_module": "@jupyter-widgets/controls",
     "model_name": "DescriptionStyleModel",
     "state": {
      "_model_module": "@jupyter-widgets/controls",
      "_model_module_version": "1.5.0",
      "_model_name": "DescriptionStyleModel",
      "_view_count": null,
      "_view_module": "@jupyter-widgets/base",
      "_view_module_version": "1.2.0",
      "_view_name": "StyleView",
      "description_width": ""
     }
    },
    "421e586afd84499493bc00ec56b8d308": {
     "model_module": "@jupyter-widgets/controls",
     "model_name": "HBoxModel",
     "state": {
      "_dom_classes": [],
      "_model_module": "@jupyter-widgets/controls",
      "_model_module_version": "1.5.0",
      "_model_name": "HBoxModel",
      "_view_count": null,
      "_view_module": "@jupyter-widgets/controls",
      "_view_module_version": "1.5.0",
      "_view_name": "HBoxView",
      "box_style": "",
      "children": [
       "IPY_MODEL_a4d872f361794cb79dd56837cc0fcf6f",
       "IPY_MODEL_69f9b505bf64478ea4bbfcfcf4630e3f"
      ],
      "layout": "IPY_MODEL_c2699d77af5d4bb298e99cad7f8ef903"
     }
    },
    "4d4ff788d33147db8f6ac7e625b50524": {
     "model_module": "@jupyter-widgets/base",
     "model_name": "LayoutModel",
     "state": {
      "_model_module": "@jupyter-widgets/base",
      "_model_module_version": "1.2.0",
      "_model_name": "LayoutModel",
      "_view_count": null,
      "_view_module": "@jupyter-widgets/base",
      "_view_module_version": "1.2.0",
      "_view_name": "LayoutView",
      "align_content": null,
      "align_items": null,
      "align_self": null,
      "border": null,
      "bottom": null,
      "display": null,
      "flex": null,
      "flex_flow": null,
      "grid_area": null,
      "grid_auto_columns": null,
      "grid_auto_flow": null,
      "grid_auto_rows": null,
      "grid_column": null,
      "grid_gap": null,
      "grid_row": null,
      "grid_template_areas": null,
      "grid_template_columns": null,
      "grid_template_rows": null,
      "height": null,
      "justify_content": null,
      "justify_items": null,
      "left": null,
      "margin": null,
      "max_height": null,
      "max_width": null,
      "min_height": null,
      "min_width": null,
      "object_fit": null,
      "object_position": null,
      "order": null,
      "overflow": null,
      "overflow_x": null,
      "overflow_y": null,
      "padding": null,
      "right": null,
      "top": null,
      "visibility": null,
      "width": null
     }
    },
    "4dab1ca39a13477d8e5b90092f5f39b1": {
     "model_module": "@jupyter-widgets/controls",
     "model_name": "HBoxModel",
     "state": {
      "_dom_classes": [],
      "_model_module": "@jupyter-widgets/controls",
      "_model_module_version": "1.5.0",
      "_model_name": "HBoxModel",
      "_view_count": null,
      "_view_module": "@jupyter-widgets/controls",
      "_view_module_version": "1.5.0",
      "_view_name": "HBoxView",
      "box_style": "",
      "children": [
       "IPY_MODEL_88d422b8422144c5bbbf0fbed839a906",
       "IPY_MODEL_64ec8fb7c7f644b5a9db62caeba97318"
      ],
      "layout": "IPY_MODEL_72b3c8b4b4ab48d1ad3719e919e9d8c2"
     }
    },
    "516db872f31746c9b99d3b54a347276c": {
     "model_module": "@jupyter-widgets/controls",
     "model_name": "HBoxModel",
     "state": {
      "_dom_classes": [],
      "_model_module": "@jupyter-widgets/controls",
      "_model_module_version": "1.5.0",
      "_model_name": "HBoxModel",
      "_view_count": null,
      "_view_module": "@jupyter-widgets/controls",
      "_view_module_version": "1.5.0",
      "_view_name": "HBoxView",
      "box_style": "",
      "children": [
       "IPY_MODEL_3285e5a93a7e456d9ae81e1b6aa98bd3",
       "IPY_MODEL_322cb9faf780431a9b4e873a5705c2f5"
      ],
      "layout": "IPY_MODEL_c0e31816141d4f6bb15c29d1c4b8e835"
     }
    },
    "522a2bd98f5248df99b47410d307dde8": {
     "model_module": "@jupyter-widgets/base",
     "model_name": "LayoutModel",
     "state": {
      "_model_module": "@jupyter-widgets/base",
      "_model_module_version": "1.2.0",
      "_model_name": "LayoutModel",
      "_view_count": null,
      "_view_module": "@jupyter-widgets/base",
      "_view_module_version": "1.2.0",
      "_view_name": "LayoutView",
      "align_content": null,
      "align_items": null,
      "align_self": null,
      "border": null,
      "bottom": null,
      "display": null,
      "flex": null,
      "flex_flow": null,
      "grid_area": null,
      "grid_auto_columns": null,
      "grid_auto_flow": null,
      "grid_auto_rows": null,
      "grid_column": null,
      "grid_gap": null,
      "grid_row": null,
      "grid_template_areas": null,
      "grid_template_columns": null,
      "grid_template_rows": null,
      "height": null,
      "justify_content": null,
      "justify_items": null,
      "left": null,
      "margin": null,
      "max_height": null,
      "max_width": null,
      "min_height": null,
      "min_width": null,
      "object_fit": null,
      "object_position": null,
      "order": null,
      "overflow": null,
      "overflow_x": null,
      "overflow_y": null,
      "padding": null,
      "right": null,
      "top": null,
      "visibility": null,
      "width": null
     }
    },
    "52f7ad8f2be44cc9bb6ca63aaa16f648": {
     "model_module": "@jupyter-widgets/base",
     "model_name": "LayoutModel",
     "state": {
      "_model_module": "@jupyter-widgets/base",
      "_model_module_version": "1.2.0",
      "_model_name": "LayoutModel",
      "_view_count": null,
      "_view_module": "@jupyter-widgets/base",
      "_view_module_version": "1.2.0",
      "_view_name": "LayoutView",
      "align_content": null,
      "align_items": null,
      "align_self": null,
      "border": null,
      "bottom": null,
      "display": null,
      "flex": null,
      "flex_flow": null,
      "grid_area": null,
      "grid_auto_columns": null,
      "grid_auto_flow": null,
      "grid_auto_rows": null,
      "grid_column": null,
      "grid_gap": null,
      "grid_row": null,
      "grid_template_areas": null,
      "grid_template_columns": null,
      "grid_template_rows": null,
      "height": null,
      "justify_content": null,
      "justify_items": null,
      "left": null,
      "margin": null,
      "max_height": null,
      "max_width": null,
      "min_height": null,
      "min_width": null,
      "object_fit": null,
      "object_position": null,
      "order": null,
      "overflow": null,
      "overflow_x": null,
      "overflow_y": null,
      "padding": null,
      "right": null,
      "top": null,
      "visibility": null,
      "width": null
     }
    },
    "54891a61992d460cbda39eef3d321e3d": {
     "model_module": "@jupyter-widgets/controls",
     "model_name": "ProgressStyleModel",
     "state": {
      "_model_module": "@jupyter-widgets/controls",
      "_model_module_version": "1.5.0",
      "_model_name": "ProgressStyleModel",
      "_view_count": null,
      "_view_module": "@jupyter-widgets/base",
      "_view_module_version": "1.2.0",
      "_view_name": "StyleView",
      "bar_color": null,
      "description_width": "initial"
     }
    },
    "54b224563816481b8e4bda2d1352c1ac": {
     "model_module": "@jupyter-widgets/base",
     "model_name": "LayoutModel",
     "state": {
      "_model_module": "@jupyter-widgets/base",
      "_model_module_version": "1.2.0",
      "_model_name": "LayoutModel",
      "_view_count": null,
      "_view_module": "@jupyter-widgets/base",
      "_view_module_version": "1.2.0",
      "_view_name": "LayoutView",
      "align_content": null,
      "align_items": null,
      "align_self": null,
      "border": null,
      "bottom": null,
      "display": null,
      "flex": null,
      "flex_flow": null,
      "grid_area": null,
      "grid_auto_columns": null,
      "grid_auto_flow": null,
      "grid_auto_rows": null,
      "grid_column": null,
      "grid_gap": null,
      "grid_row": null,
      "grid_template_areas": null,
      "grid_template_columns": null,
      "grid_template_rows": null,
      "height": null,
      "justify_content": null,
      "justify_items": null,
      "left": null,
      "margin": null,
      "max_height": null,
      "max_width": null,
      "min_height": null,
      "min_width": null,
      "object_fit": null,
      "object_position": null,
      "order": null,
      "overflow": null,
      "overflow_x": null,
      "overflow_y": null,
      "padding": null,
      "right": null,
      "top": null,
      "visibility": null,
      "width": null
     }
    },
    "64ec8fb7c7f644b5a9db62caeba97318": {
     "model_module": "@jupyter-widgets/controls",
     "model_name": "HTMLModel",
     "state": {
      "_dom_classes": [],
      "_model_module": "@jupyter-widgets/controls",
      "_model_module_version": "1.5.0",
      "_model_name": "HTMLModel",
      "_view_count": null,
      "_view_module": "@jupyter-widgets/controls",
      "_view_module_version": "1.5.0",
      "_view_name": "HTMLView",
      "description": "",
      "description_tooltip": null,
      "layout": "IPY_MODEL_522a2bd98f5248df99b47410d307dde8",
      "placeholder": "​",
      "style": "IPY_MODEL_0bb85615efb54c9d8a10208acec99f4e",
      "value": " 456k/456k [01:12&lt;00:00, 6.32kB/s]"
     }
    },
    "69f9b505bf64478ea4bbfcfcf4630e3f": {
     "model_module": "@jupyter-widgets/controls",
     "model_name": "HTMLModel",
     "state": {
      "_dom_classes": [],
      "_model_module": "@jupyter-widgets/controls",
      "_model_module_version": "1.5.0",
      "_model_name": "HTMLModel",
      "_view_count": null,
      "_view_module": "@jupyter-widgets/controls",
      "_view_module_version": "1.5.0",
      "_view_name": "HTMLView",
      "description": "",
      "description_tooltip": null,
      "layout": "IPY_MODEL_4d4ff788d33147db8f6ac7e625b50524",
      "placeholder": "​",
      "style": "IPY_MODEL_c8e6bccd400543979d872c752c23ebd2",
      "value": " 1.04M/1.04M [00:00&lt;00:00, 8.50MB/s]"
     }
    },
    "6dbab7e53bb44b96876075a7dc040698": {
     "model_module": "@jupyter-widgets/base",
     "model_name": "LayoutModel",
     "state": {
      "_model_module": "@jupyter-widgets/base",
      "_model_module_version": "1.2.0",
      "_model_name": "LayoutModel",
      "_view_count": null,
      "_view_module": "@jupyter-widgets/base",
      "_view_module_version": "1.2.0",
      "_view_name": "LayoutView",
      "align_content": null,
      "align_items": null,
      "align_self": null,
      "border": null,
      "bottom": null,
      "display": null,
      "flex": null,
      "flex_flow": null,
      "grid_area": null,
      "grid_auto_columns": null,
      "grid_auto_flow": null,
      "grid_auto_rows": null,
      "grid_column": null,
      "grid_gap": null,
      "grid_row": null,
      "grid_template_areas": null,
      "grid_template_columns": null,
      "grid_template_rows": null,
      "height": null,
      "justify_content": null,
      "justify_items": null,
      "left": null,
      "margin": null,
      "max_height": null,
      "max_width": null,
      "min_height": null,
      "min_width": null,
      "object_fit": null,
      "object_position": null,
      "order": null,
      "overflow": null,
      "overflow_x": null,
      "overflow_y": null,
      "padding": null,
      "right": null,
      "top": null,
      "visibility": null,
      "width": null
     }
    },
    "72b3c8b4b4ab48d1ad3719e919e9d8c2": {
     "model_module": "@jupyter-widgets/base",
     "model_name": "LayoutModel",
     "state": {
      "_model_module": "@jupyter-widgets/base",
      "_model_module_version": "1.2.0",
      "_model_name": "LayoutModel",
      "_view_count": null,
      "_view_module": "@jupyter-widgets/base",
      "_view_module_version": "1.2.0",
      "_view_name": "LayoutView",
      "align_content": null,
      "align_items": null,
      "align_self": null,
      "border": null,
      "bottom": null,
      "display": null,
      "flex": null,
      "flex_flow": null,
      "grid_area": null,
      "grid_auto_columns": null,
      "grid_auto_flow": null,
      "grid_auto_rows": null,
      "grid_column": null,
      "grid_gap": null,
      "grid_row": null,
      "grid_template_areas": null,
      "grid_template_columns": null,
      "grid_template_rows": null,
      "height": null,
      "justify_content": null,
      "justify_items": null,
      "left": null,
      "margin": null,
      "max_height": null,
      "max_width": null,
      "min_height": null,
      "min_width": null,
      "object_fit": null,
      "object_position": null,
      "order": null,
      "overflow": null,
      "overflow_x": null,
      "overflow_y": null,
      "padding": null,
      "right": null,
      "top": null,
      "visibility": null,
      "width": null
     }
    },
    "88d422b8422144c5bbbf0fbed839a906": {
     "model_module": "@jupyter-widgets/controls",
     "model_name": "FloatProgressModel",
     "state": {
      "_dom_classes": [],
      "_model_module": "@jupyter-widgets/controls",
      "_model_module_version": "1.5.0",
      "_model_name": "FloatProgressModel",
      "_view_count": null,
      "_view_module": "@jupyter-widgets/controls",
      "_view_module_version": "1.5.0",
      "_view_name": "ProgressView",
      "bar_style": "success",
      "description": "Downloading: 100%",
      "description_tooltip": null,
      "layout": "IPY_MODEL_6dbab7e53bb44b96876075a7dc040698",
      "max": 456318,
      "min": 0,
      "orientation": "horizontal",
      "style": "IPY_MODEL_54891a61992d460cbda39eef3d321e3d",
      "value": 456318
     }
    },
    "8b9a2b18199748ada11f4d759a18dc34": {
     "model_module": "@jupyter-widgets/base",
     "model_name": "LayoutModel",
     "state": {
      "_model_module": "@jupyter-widgets/base",
      "_model_module_version": "1.2.0",
      "_model_name": "LayoutModel",
      "_view_count": null,
      "_view_module": "@jupyter-widgets/base",
      "_view_module_version": "1.2.0",
      "_view_name": "LayoutView",
      "align_content": null,
      "align_items": null,
      "align_self": null,
      "border": null,
      "bottom": null,
      "display": null,
      "flex": null,
      "flex_flow": null,
      "grid_area": null,
      "grid_auto_columns": null,
      "grid_auto_flow": null,
      "grid_auto_rows": null,
      "grid_column": null,
      "grid_gap": null,
      "grid_row": null,
      "grid_template_areas": null,
      "grid_template_columns": null,
      "grid_template_rows": null,
      "height": null,
      "justify_content": null,
      "justify_items": null,
      "left": null,
      "margin": null,
      "max_height": null,
      "max_width": null,
      "min_height": null,
      "min_width": null,
      "object_fit": null,
      "object_position": null,
      "order": null,
      "overflow": null,
      "overflow_x": null,
      "overflow_y": null,
      "padding": null,
      "right": null,
      "top": null,
      "visibility": null,
      "width": null
     }
    },
    "90c87fcb176d48508dad1923cc316d6e": {
     "model_module": "@jupyter-widgets/base",
     "model_name": "LayoutModel",
     "state": {
      "_model_module": "@jupyter-widgets/base",
      "_model_module_version": "1.2.0",
      "_model_name": "LayoutModel",
      "_view_count": null,
      "_view_module": "@jupyter-widgets/base",
      "_view_module_version": "1.2.0",
      "_view_name": "LayoutView",
      "align_content": null,
      "align_items": null,
      "align_self": null,
      "border": null,
      "bottom": null,
      "display": null,
      "flex": null,
      "flex_flow": null,
      "grid_area": null,
      "grid_auto_columns": null,
      "grid_auto_flow": null,
      "grid_auto_rows": null,
      "grid_column": null,
      "grid_gap": null,
      "grid_row": null,
      "grid_template_areas": null,
      "grid_template_columns": null,
      "grid_template_rows": null,
      "height": null,
      "justify_content": null,
      "justify_items": null,
      "left": null,
      "margin": null,
      "max_height": null,
      "max_width": null,
      "min_height": null,
      "min_width": null,
      "object_fit": null,
      "object_position": null,
      "order": null,
      "overflow": null,
      "overflow_x": null,
      "overflow_y": null,
      "padding": null,
      "right": null,
      "top": null,
      "visibility": null,
      "width": null
     }
    },
    "97336e122d5042c0898cf1fe11969c8d": {
     "model_module": "@jupyter-widgets/controls",
     "model_name": "FloatProgressModel",
     "state": {
      "_dom_classes": [],
      "_model_module": "@jupyter-widgets/controls",
      "_model_module_version": "1.5.0",
      "_model_name": "FloatProgressModel",
      "_view_count": null,
      "_view_module": "@jupyter-widgets/controls",
      "_view_module_version": "1.5.0",
      "_view_name": "ProgressView",
      "bar_style": "success",
      "description": "Downloading: 100%",
      "description_tooltip": null,
      "layout": "IPY_MODEL_184048e306a5468a95c887422bf9ac84",
      "max": 665,
      "min": 0,
      "orientation": "horizontal",
      "style": "IPY_MODEL_1b8fd963e1a7459aa9154873b448acc4",
      "value": 665
     }
    },
    "a4d872f361794cb79dd56837cc0fcf6f": {
     "model_module": "@jupyter-widgets/controls",
     "model_name": "FloatProgressModel",
     "state": {
      "_dom_classes": [],
      "_model_module": "@jupyter-widgets/controls",
      "_model_module_version": "1.5.0",
      "_model_name": "FloatProgressModel",
      "_view_count": null,
      "_view_module": "@jupyter-widgets/controls",
      "_view_module_version": "1.5.0",
      "_view_name": "ProgressView",
      "bar_style": "success",
      "description": "Downloading: 100%",
      "description_tooltip": null,
      "layout": "IPY_MODEL_059ad02d19454696b629638ce8b0f57d",
      "max": 1042301,
      "min": 0,
      "orientation": "horizontal",
      "style": "IPY_MODEL_f8766ef75ce043f981722f2396eb7382",
      "value": 1042301
     }
    },
    "ae62783d213444c9af2bf71b10b51e98": {
     "model_module": "@jupyter-widgets/controls",
     "model_name": "ProgressStyleModel",
     "state": {
      "_model_module": "@jupyter-widgets/controls",
      "_model_module_version": "1.5.0",
      "_model_name": "ProgressStyleModel",
      "_view_count": null,
      "_view_module": "@jupyter-widgets/base",
      "_view_module_version": "1.2.0",
      "_view_name": "StyleView",
      "bar_color": null,
      "description_width": "initial"
     }
    },
    "b9f4f4387cd7456f80aeadf9033895d4": {
     "model_module": "@jupyter-widgets/controls",
     "model_name": "FloatProgressModel",
     "state": {
      "_dom_classes": [],
      "_model_module": "@jupyter-widgets/controls",
      "_model_module_version": "1.5.0",
      "_model_name": "FloatProgressModel",
      "_view_count": null,
      "_view_module": "@jupyter-widgets/controls",
      "_view_module_version": "1.5.0",
      "_view_name": "ProgressView",
      "bar_style": "success",
      "description": "Downloading: 100%",
      "description_tooltip": null,
      "layout": "IPY_MODEL_90c87fcb176d48508dad1923cc316d6e",
      "max": 548118077,
      "min": 0,
      "orientation": "horizontal",
      "style": "IPY_MODEL_c46f90dd355b48099b5f09df98b8dd3b",
      "value": 548118077
     }
    },
    "c0e31816141d4f6bb15c29d1c4b8e835": {
     "model_module": "@jupyter-widgets/base",
     "model_name": "LayoutModel",
     "state": {
      "_model_module": "@jupyter-widgets/base",
      "_model_module_version": "1.2.0",
      "_model_name": "LayoutModel",
      "_view_count": null,
      "_view_module": "@jupyter-widgets/base",
      "_view_module_version": "1.2.0",
      "_view_name": "LayoutView",
      "align_content": null,
      "align_items": null,
      "align_self": null,
      "border": null,
      "bottom": null,
      "display": null,
      "flex": null,
      "flex_flow": null,
      "grid_area": null,
      "grid_auto_columns": null,
      "grid_auto_flow": null,
      "grid_auto_rows": null,
      "grid_column": null,
      "grid_gap": null,
      "grid_row": null,
      "grid_template_areas": null,
      "grid_template_columns": null,
      "grid_template_rows": null,
      "height": null,
      "justify_content": null,
      "justify_items": null,
      "left": null,
      "margin": null,
      "max_height": null,
      "max_width": null,
      "min_height": null,
      "min_width": null,
      "object_fit": null,
      "object_position": null,
      "order": null,
      "overflow": null,
      "overflow_x": null,
      "overflow_y": null,
      "padding": null,
      "right": null,
      "top": null,
      "visibility": null,
      "width": null
     }
    },
    "c2699d77af5d4bb298e99cad7f8ef903": {
     "model_module": "@jupyter-widgets/base",
     "model_name": "LayoutModel",
     "state": {
      "_model_module": "@jupyter-widgets/base",
      "_model_module_version": "1.2.0",
      "_model_name": "LayoutModel",
      "_view_count": null,
      "_view_module": "@jupyter-widgets/base",
      "_view_module_version": "1.2.0",
      "_view_name": "LayoutView",
      "align_content": null,
      "align_items": null,
      "align_self": null,
      "border": null,
      "bottom": null,
      "display": null,
      "flex": null,
      "flex_flow": null,
      "grid_area": null,
      "grid_auto_columns": null,
      "grid_auto_flow": null,
      "grid_auto_rows": null,
      "grid_column": null,
      "grid_gap": null,
      "grid_row": null,
      "grid_template_areas": null,
      "grid_template_columns": null,
      "grid_template_rows": null,
      "height": null,
      "justify_content": null,
      "justify_items": null,
      "left": null,
      "margin": null,
      "max_height": null,
      "max_width": null,
      "min_height": null,
      "min_width": null,
      "object_fit": null,
      "object_position": null,
      "order": null,
      "overflow": null,
      "overflow_x": null,
      "overflow_y": null,
      "padding": null,
      "right": null,
      "top": null,
      "visibility": null,
      "width": null
     }
    },
    "c46f90dd355b48099b5f09df98b8dd3b": {
     "model_module": "@jupyter-widgets/controls",
     "model_name": "ProgressStyleModel",
     "state": {
      "_model_module": "@jupyter-widgets/controls",
      "_model_module_version": "1.5.0",
      "_model_name": "ProgressStyleModel",
      "_view_count": null,
      "_view_module": "@jupyter-widgets/base",
      "_view_module_version": "1.2.0",
      "_view_name": "StyleView",
      "bar_color": null,
      "description_width": "initial"
     }
    },
    "c8e6bccd400543979d872c752c23ebd2": {
     "model_module": "@jupyter-widgets/controls",
     "model_name": "DescriptionStyleModel",
     "state": {
      "_model_module": "@jupyter-widgets/controls",
      "_model_module_version": "1.5.0",
      "_model_name": "DescriptionStyleModel",
      "_view_count": null,
      "_view_module": "@jupyter-widgets/base",
      "_view_module_version": "1.2.0",
      "_view_name": "StyleView",
      "description_width": ""
     }
    },
    "cf4cd9e9a64f4e0c993de5956bd3dfab": {
     "model_module": "@jupyter-widgets/controls",
     "model_name": "DescriptionStyleModel",
     "state": {
      "_model_module": "@jupyter-widgets/controls",
      "_model_module_version": "1.5.0",
      "_model_name": "DescriptionStyleModel",
      "_view_count": null,
      "_view_module": "@jupyter-widgets/base",
      "_view_module_version": "1.2.0",
      "_view_name": "StyleView",
      "description_width": ""
     }
    },
    "d74eb6937bb148b1bbbbe90e7cb1cd6d": {
     "model_module": "@jupyter-widgets/controls",
     "model_name": "DescriptionStyleModel",
     "state": {
      "_model_module": "@jupyter-widgets/controls",
      "_model_module_version": "1.5.0",
      "_model_name": "DescriptionStyleModel",
      "_view_count": null,
      "_view_module": "@jupyter-widgets/base",
      "_view_module_version": "1.2.0",
      "_view_name": "StyleView",
      "description_width": ""
     }
    },
    "d91ebf9eeb954c8d90e69ed8090bdb92": {
     "model_module": "@jupyter-widgets/base",
     "model_name": "LayoutModel",
     "state": {
      "_model_module": "@jupyter-widgets/base",
      "_model_module_version": "1.2.0",
      "_model_name": "LayoutModel",
      "_view_count": null,
      "_view_module": "@jupyter-widgets/base",
      "_view_module_version": "1.2.0",
      "_view_name": "LayoutView",
      "align_content": null,
      "align_items": null,
      "align_self": null,
      "border": null,
      "bottom": null,
      "display": null,
      "flex": null,
      "flex_flow": null,
      "grid_area": null,
      "grid_auto_columns": null,
      "grid_auto_flow": null,
      "grid_auto_rows": null,
      "grid_column": null,
      "grid_gap": null,
      "grid_row": null,
      "grid_template_areas": null,
      "grid_template_columns": null,
      "grid_template_rows": null,
      "height": null,
      "justify_content": null,
      "justify_items": null,
      "left": null,
      "margin": null,
      "max_height": null,
      "max_width": null,
      "min_height": null,
      "min_width": null,
      "object_fit": null,
      "object_position": null,
      "order": null,
      "overflow": null,
      "overflow_x": null,
      "overflow_y": null,
      "padding": null,
      "right": null,
      "top": null,
      "visibility": null,
      "width": null
     }
    },
    "f262dabb420448d7a3733c9e2b56bda7": {
     "model_module": "@jupyter-widgets/base",
     "model_name": "LayoutModel",
     "state": {
      "_model_module": "@jupyter-widgets/base",
      "_model_module_version": "1.2.0",
      "_model_name": "LayoutModel",
      "_view_count": null,
      "_view_module": "@jupyter-widgets/base",
      "_view_module_version": "1.2.0",
      "_view_name": "LayoutView",
      "align_content": null,
      "align_items": null,
      "align_self": null,
      "border": null,
      "bottom": null,
      "display": null,
      "flex": null,
      "flex_flow": null,
      "grid_area": null,
      "grid_auto_columns": null,
      "grid_auto_flow": null,
      "grid_auto_rows": null,
      "grid_column": null,
      "grid_gap": null,
      "grid_row": null,
      "grid_template_areas": null,
      "grid_template_columns": null,
      "grid_template_rows": null,
      "height": null,
      "justify_content": null,
      "justify_items": null,
      "left": null,
      "margin": null,
      "max_height": null,
      "max_width": null,
      "min_height": null,
      "min_width": null,
      "object_fit": null,
      "object_position": null,
      "order": null,
      "overflow": null,
      "overflow_x": null,
      "overflow_y": null,
      "padding": null,
      "right": null,
      "top": null,
      "visibility": null,
      "width": null
     }
    },
    "f8766ef75ce043f981722f2396eb7382": {
     "model_module": "@jupyter-widgets/controls",
     "model_name": "ProgressStyleModel",
     "state": {
      "_model_module": "@jupyter-widgets/controls",
      "_model_module_version": "1.5.0",
      "_model_name": "ProgressStyleModel",
      "_view_count": null,
      "_view_module": "@jupyter-widgets/base",
      "_view_module_version": "1.2.0",
      "_view_name": "StyleView",
      "bar_color": null,
      "description_width": "initial"
     }
    },
    "fae7e4d68df24da49e1744c70f9f2ea3": {
     "model_module": "@jupyter-widgets/controls",
     "model_name": "HBoxModel",
     "state": {
      "_dom_classes": [],
      "_model_module": "@jupyter-widgets/controls",
      "_model_module_version": "1.5.0",
      "_model_name": "HBoxModel",
      "_view_count": null,
      "_view_module": "@jupyter-widgets/controls",
      "_view_module_version": "1.5.0",
      "_view_name": "HBoxView",
      "box_style": "",
      "children": [
       "IPY_MODEL_97336e122d5042c0898cf1fe11969c8d",
       "IPY_MODEL_2f263aa8ce304449874f5fe5a6b49049"
      ],
      "layout": "IPY_MODEL_52f7ad8f2be44cc9bb6ca63aaa16f648"
     }
    }
   }
  }
 },
 "nbformat": 4,
 "nbformat_minor": 4
}
